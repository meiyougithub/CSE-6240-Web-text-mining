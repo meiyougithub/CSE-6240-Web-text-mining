{
 "cells": [
  {
   "cell_type": "markdown",
   "metadata": {},
   "source": [
    "# PART I: Building String Scoring Models Using LSTM"
   ]
  },
  {
   "cell_type": "code",
   "execution_count": 1,
   "metadata": {
    "collapsed": false
   },
   "outputs": [
    {
     "name": "stderr",
     "output_type": "stream",
     "text": [
      "Using TensorFlow backend.\n"
     ]
    }
   ],
   "source": [
    "from keras.models import Sequential\n",
    "from keras.layers import Dense, Activation\n",
    "from keras.layers import LSTM\n",
    "from keras.optimizers import RMSprop\n",
    "import numpy as np\n",
    "import random\n",
    "import sys"
   ]
  },
  {
   "cell_type": "markdown",
   "metadata": {},
   "source": [
    "## Read file"
   ]
  },
  {
   "cell_type": "code",
   "execution_count": 2,
   "metadata": {
    "collapsed": true
   },
   "outputs": [],
   "source": [
    "def read_file(file_name):\n",
    "    text_file = open(\"data/\"+file_name, \"r\")\n",
    "    lines = text_file.read().lower()\n",
    "    text_file.close()\n",
    "    return lines"
   ]
  },
  {
   "cell_type": "code",
   "execution_count": 3,
   "metadata": {
    "collapsed": true
   },
   "outputs": [],
   "source": [
    "eng_text = read_file(\"eng.txt\")"
   ]
  },
  {
   "cell_type": "code",
   "execution_count": 4,
   "metadata": {
    "collapsed": false
   },
   "outputs": [
    {
     "name": "stdout",
     "output_type": "stream",
     "text": [
      "eng_chars: 43\n"
     ]
    }
   ],
   "source": [
    "eng_chars = sorted(list(set(eng_text)))\n",
    "print('eng_chars:', len(eng_chars))"
   ]
  },
  {
   "cell_type": "code",
   "execution_count": 5,
   "metadata": {
    "collapsed": true
   },
   "outputs": [],
   "source": [
    "frn_text = read_file(\"frn.txt\")"
   ]
  },
  {
   "cell_type": "code",
   "execution_count": 6,
   "metadata": {
    "collapsed": false
   },
   "outputs": [
    {
     "name": "stdout",
     "output_type": "stream",
     "text": [
      "frn_chars: 41\n"
     ]
    }
   ],
   "source": [
    "frn_chars = sorted(list(set(frn_text)))\n",
    "print('frn_chars:', len(frn_chars))"
   ]
  },
  {
   "cell_type": "markdown",
   "metadata": {},
   "source": [
    "## Count chars and create char index dict"
   ]
  },
  {
   "cell_type": "code",
   "execution_count": 7,
   "metadata": {
    "collapsed": false
   },
   "outputs": [],
   "source": [
    "chars = sorted(list((set(eng_text)|set(frn_text))))"
   ]
  },
  {
   "cell_type": "code",
   "execution_count": 8,
   "metadata": {
    "collapsed": false
   },
   "outputs": [
    {
     "name": "stdout",
     "output_type": "stream",
     "text": [
      "total chars: 44\n"
     ]
    }
   ],
   "source": [
    "print('total chars:', len(chars))"
   ]
  },
  {
   "cell_type": "code",
   "execution_count": 9,
   "metadata": {
    "collapsed": true
   },
   "outputs": [],
   "source": [
    "char_indices = dict((c, i) for i, c in enumerate(chars))\n",
    "indices_char = dict((i, c) for i, c in enumerate(chars))"
   ]
  },
  {
   "cell_type": "markdown",
   "metadata": {},
   "source": [
    "## Vectorize text"
   ]
  },
  {
   "cell_type": "code",
   "execution_count": 10,
   "metadata": {
    "collapsed": true
   },
   "outputs": [],
   "source": [
    "maxlen = 5"
   ]
  },
  {
   "cell_type": "code",
   "execution_count": 11,
   "metadata": {
    "collapsed": true
   },
   "outputs": [],
   "source": [
    "# cut the text in semi-redundant sequences of maxlen characters\n",
    "def cut(text, maxlen = 5, step = 1):\n",
    "    sentences = []\n",
    "    next_chars = []\n",
    "    for i in range(0, len(text) - maxlen, step):\n",
    "        sentences.append(text[i: i + maxlen])\n",
    "        next_chars.append(text[i + maxlen])\n",
    "    print('nb sequences:', len(sentences),' with maxlen of ', maxlen, ' and step of ', step)\n",
    "    return (sentences, next_chars)\n"
   ]
  },
  {
   "cell_type": "code",
   "execution_count": 12,
   "metadata": {
    "collapsed": false
   },
   "outputs": [
    {
     "name": "stdout",
     "output_type": "stream",
     "text": [
      "nb sequences: 10741  with maxlen of  5  and step of  1\n"
     ]
    }
   ],
   "source": [
    "eng_sen, eng_next_chars = cut(eng_text)"
   ]
  },
  {
   "cell_type": "code",
   "execution_count": 13,
   "metadata": {
    "collapsed": false
   },
   "outputs": [
    {
     "name": "stdout",
     "output_type": "stream",
     "text": [
      "nb sequences: 12004  with maxlen of  5  and step of  1\n"
     ]
    }
   ],
   "source": [
    "frn_sen, frn_next_chars = cut(frn_text)"
   ]
  },
  {
   "cell_type": "code",
   "execution_count": 14,
   "metadata": {
    "collapsed": false
   },
   "outputs": [],
   "source": [
    "def vectorize(sentences, next_chars, chars, char_indices, maxlen = 5):\n",
    "#     print('Vectorization...')\n",
    "    X = np.zeros((len(sentences), maxlen, len(chars)), dtype=np.bool)\n",
    "    y = np.zeros((len(sentences), len(chars)), dtype=np.bool)\n",
    "    for i, sentence in enumerate(sentences):\n",
    "        for t, char in enumerate(sentence):\n",
    "            X[i, t, char_indices[char]] = 1\n",
    "            y[i, char_indices[next_chars[i]]] = 1\n",
    "    return (X,y)"
   ]
  },
  {
   "cell_type": "code",
   "execution_count": 15,
   "metadata": {
    "collapsed": false,
    "scrolled": true
   },
   "outputs": [],
   "source": [
    "eng_X, eng_y = vectorize(eng_sen, eng_next_chars, chars, char_indices)\n",
    "frn_X, frn_y = vectorize(frn_sen, frn_next_chars, chars, char_indices)"
   ]
  },
  {
   "cell_type": "markdown",
   "metadata": {},
   "source": [
    "## Split data"
   ]
  },
  {
   "cell_type": "code",
   "execution_count": 16,
   "metadata": {
    "collapsed": true
   },
   "outputs": [],
   "source": [
    "from sklearn.model_selection import train_test_split\n",
    "eng_X_train, eng_X_test, eng_y_train, eng_y_test = train_test_split(eng_X, \n",
    "                                                                     eng_y , \n",
    "                                                                     test_size=0.2, \n",
    "                                                                     random_state=0)\n",
    "frn_X_train, frn_X_test, frn_y_train, frn_y_test = train_test_split(frn_X, \n",
    "                                                                     frn_y , \n",
    "                                                                     test_size=0.2, \n",
    "                                                                     random_state=0)"
   ]
  },
  {
   "cell_type": "code",
   "execution_count": 17,
   "metadata": {
    "collapsed": false
   },
   "outputs": [],
   "source": [
    "eng_index = np.random.choice(range(len(eng_X_test)), 100, replace=False)\n",
    "frn_index = np.random.choice(range(len(frn_X_test)), 100, replace=False)\n",
    "\n",
    "X_test = np.concatenate((eng_X_test[eng_index, :], frn_X_test[frn_index, :]), axis=0)\n",
    "y_test = np.array([1]*100+[0]*100)"
   ]
  },
  {
   "cell_type": "code",
   "execution_count": 18,
   "metadata": {
    "collapsed": false
   },
   "outputs": [
    {
     "name": "stdout",
     "output_type": "stream",
     "text": [
      "(200, 5, 44) (200,)\n"
     ]
    }
   ],
   "source": [
    "print(X_test.shape, y_test.shape)"
   ]
  },
  {
   "cell_type": "markdown",
   "metadata": {},
   "source": [
    "## Build LSTM model"
   ]
  },
  {
   "cell_type": "markdown",
   "metadata": {},
   "source": [
    "Train English model"
   ]
  },
  {
   "cell_type": "code",
   "execution_count": 19,
   "metadata": {
    "collapsed": false
   },
   "outputs": [
    {
     "name": "stdout",
     "output_type": "stream",
     "text": [
      "Build eng_model...\n"
     ]
    }
   ],
   "source": [
    "# build the model: a single LSTM\n",
    "print('Build eng_model...')\n",
    "maxlen = 5\n",
    "eng_model = Sequential()\n",
    "eng_model.add(LSTM(128, input_shape=(maxlen, len(chars))))\n",
    "eng_model.add(Dense(len(chars)))\n",
    "eng_model.add(Activation('softmax'))\n",
    "\n",
    "optimizer = RMSprop(lr=0.01)\n",
    "eng_model.compile(loss='categorical_crossentropy', optimizer=optimizer)\n"
   ]
  },
  {
   "cell_type": "code",
   "execution_count": 20,
   "metadata": {
    "collapsed": false
   },
   "outputs": [
    {
     "name": "stdout",
     "output_type": "stream",
     "text": [
      "Epoch 1/5\n",
      "8592/8592 [==============================] - 2s - loss: 2.6445     \n",
      "Epoch 2/5\n",
      "8592/8592 [==============================] - 2s - loss: 2.0326     \n",
      "Epoch 3/5\n",
      "8592/8592 [==============================] - 2s - loss: 1.7657     \n",
      "Epoch 4/5\n",
      "8592/8592 [==============================] - 2s - loss: 1.5621     \n",
      "Epoch 5/5\n",
      "8592/8592 [==============================] - 1s - loss: 1.3899     \n"
     ]
    }
   ],
   "source": [
    "eng_history = eng_model.fit(eng_X_train, eng_y_train, batch_size=128, epochs = 5)"
   ]
  },
  {
   "cell_type": "code",
   "execution_count": 21,
   "metadata": {
    "collapsed": false
   },
   "outputs": [
    {
     "name": "stdout",
     "output_type": "stream",
     "text": [
      "2048/2149 [===========================>..] - ETA: 0s"
     ]
    },
    {
     "data": {
      "text/plain": [
       "1.6710525247983015"
      ]
     },
     "execution_count": 21,
     "metadata": {},
     "output_type": "execute_result"
    }
   ],
   "source": [
    "eng_model.evaluate(eng_X_test,eng_y_test,batch_size = 128)"
   ]
  },
  {
   "cell_type": "markdown",
   "metadata": {},
   "source": [
    "Train french model"
   ]
  },
  {
   "cell_type": "code",
   "execution_count": 22,
   "metadata": {
    "collapsed": false
   },
   "outputs": [
    {
     "name": "stdout",
     "output_type": "stream",
     "text": [
      "Build frn_model...\n"
     ]
    }
   ],
   "source": [
    "# build the model: a single LSTM\n",
    "print('Build frn_model...')\n",
    "maxlen = 5\n",
    "frn_model = Sequential()\n",
    "frn_model.add(LSTM(128, input_shape=(maxlen, len(chars))))\n",
    "frn_model.add(Dense(len(chars)))\n",
    "frn_model.add(Activation('softmax'))\n",
    "\n",
    "optimizer = RMSprop(lr=0.01)\n",
    "frn_model.compile(loss='categorical_crossentropy', optimizer=optimizer)"
   ]
  },
  {
   "cell_type": "code",
   "execution_count": 23,
   "metadata": {
    "collapsed": false
   },
   "outputs": [
    {
     "name": "stdout",
     "output_type": "stream",
     "text": [
      "Epoch 1/5\n",
      "9603/9603 [==============================] - 3s - loss: 2.5195     \n",
      "Epoch 2/5\n",
      "9603/9603 [==============================] - 2s - loss: 1.9811     \n",
      "Epoch 3/5\n",
      "9603/9603 [==============================] - 2s - loss: 1.7501     \n",
      "Epoch 4/5\n",
      "9603/9603 [==============================] - 2s - loss: 1.5815     \n",
      "Epoch 5/5\n",
      "9603/9603 [==============================] - 2s - loss: 1.4207     \n"
     ]
    }
   ],
   "source": [
    "frn_history = frn_model.fit(frn_X_train, frn_y_train, batch_size=128, epochs = 5)"
   ]
  },
  {
   "cell_type": "code",
   "execution_count": 24,
   "metadata": {
    "collapsed": false
   },
   "outputs": [
    {
     "name": "stdout",
     "output_type": "stream",
     "text": [
      "2401/2401 [==============================] - 0s     \n"
     ]
    },
    {
     "data": {
      "text/plain": [
       "1.8182850280239005"
      ]
     },
     "execution_count": 24,
     "metadata": {},
     "output_type": "execute_result"
    }
   ],
   "source": [
    "frn_model.evaluate(frn_X_test,frn_y_test,batch_size = 128)"
   ]
  },
  {
   "cell_type": "markdown",
   "metadata": {},
   "source": [
    "## Language Detection"
   ]
  },
  {
   "cell_type": "code",
   "execution_count": 25,
   "metadata": {
    "collapsed": true
   },
   "outputs": [],
   "source": [
    "import math"
   ]
  },
  {
   "cell_type": "code",
   "execution_count": 26,
   "metadata": {
    "collapsed": true
   },
   "outputs": [],
   "source": [
    "models = [eng_model, frn_model]"
   ]
  },
  {
   "cell_type": "code",
   "execution_count": 27,
   "metadata": {
    "collapsed": true
   },
   "outputs": [],
   "source": [
    "def detect(X_test, models, char_indices, indices_char, maxlen = 5):\n",
    "    num_test = len(X_test) ## number of tests\n",
    "    num_model = len(models) ## number of models\n",
    "    num_chars = len(indices_char) ## number of chars in dict\n",
    "    results = []\n",
    "    for test in range(num_test):\n",
    "        result = []\n",
    "        X = X_test[test,:,:]     \n",
    "        for model in models:\n",
    "            start = np.zeros((1, maxlen, num_chars))\n",
    "            ans = 0\n",
    "            for l in range(maxlen):\n",
    "                next_char = X[l,:]\n",
    "                next_ind = np.where(next_char > 0)[0][0]\n",
    "                output_vector = model.predict(start)\n",
    "                prob_char = output_vector[:,next_ind][0]\n",
    "                ans += np.log(prob_char)\n",
    "                start[:,:(maxlen-1),:] = start[:,1:,:]\n",
    "                start[:,maxlen - 1, :] = next_char                \n",
    "            result.append(ans)\n",
    "        results.append(result)\n",
    "    return results"
   ]
  },
  {
   "cell_type": "code",
   "execution_count": 28,
   "metadata": {
    "collapsed": false
   },
   "outputs": [],
   "source": [
    "lang_detect = np.array(detect(X_test, models, char_indices, indices_char, maxlen = 5))"
   ]
  },
  {
   "cell_type": "code",
   "execution_count": 29,
   "metadata": {
    "collapsed": false
   },
   "outputs": [],
   "source": [
    "yhat = lang_detect[:,0] - lang_detect[:,1]"
   ]
  },
  {
   "cell_type": "code",
   "execution_count": 30,
   "metadata": {
    "collapsed": false
   },
   "outputs": [],
   "source": [
    "from sklearn.metrics import *\n",
    "roc_auc = roc_auc_score(y_test,yhat)"
   ]
  },
  {
   "cell_type": "code",
   "execution_count": 31,
   "metadata": {
    "collapsed": true
   },
   "outputs": [],
   "source": [
    "fpr, tpr, thresholds = roc_curve(y_test, yhat)"
   ]
  },
  {
   "cell_type": "code",
   "execution_count": 32,
   "metadata": {
    "collapsed": false
   },
   "outputs": [
    {
     "data": {
      "image/png": "[encoded data removed]",
      "text/plain": [
       "<matplotlib.figure.Figure at 0x115a24898>"
      ]
     },
     "metadata": {},
     "output_type": "display_data"
    }
   ],
   "source": [
    "%matplotlib inline\n",
    "import matplotlib.pyplot as plt\n",
    "\n",
    "plt.figure()\n",
    "lw = 2\n",
    "plt.plot(fpr, tpr, color='darkorange',\n",
    "         lw=lw, label='ROC curve (area = %0.4f)' % roc_auc)\n",
    "plt.plot([0, 1], [0, 1], color='navy', lw=lw, linestyle='--')\n",
    "plt.xlim([-0.01, 1.0])\n",
    "plt.ylim([0., 1.05])\n",
    "plt.xlabel('False Positive Rate')\n",
    "plt.ylabel('True Positive Rate')\n",
    "plt.title('ROC of English')\n",
    "plt.legend(loc=\"lower right\")\n",
    "plt.show()"
   ]
  },
  {
   "cell_type": "markdown",
   "metadata": {},
   "source": [
    "# PART II: Further study"
   ]
  },
  {
   "cell_type": "markdown",
   "metadata": {},
   "source": [
    "### 1. Use all the testing data to test the models"
   ]
  },
  {
   "cell_type": "code",
   "execution_count": 33,
   "metadata": {
    "collapsed": true
   },
   "outputs": [],
   "source": [
    "X_test_full = np.concatenate((eng_X_test, frn_X_test), axis=0)\n",
    "y_test_full = np.array([1]*len(eng_X_test)+[0]*len(frn_X_test))"
   ]
  },
  {
   "cell_type": "code",
   "execution_count": 34,
   "metadata": {
    "collapsed": false
   },
   "outputs": [
    {
     "data": {
      "text/plain": [
       "(4550, 5, 44)"
      ]
     },
     "execution_count": 34,
     "metadata": {},
     "output_type": "execute_result"
    }
   ],
   "source": [
    "X_test_full.shape"
   ]
  },
  {
   "cell_type": "code",
   "execution_count": 35,
   "metadata": {
    "collapsed": false,
    "scrolled": true
   },
   "outputs": [
    {
     "data": {
      "text/plain": [
       "(4550,)"
      ]
     },
     "execution_count": 35,
     "metadata": {},
     "output_type": "execute_result"
    }
   ],
   "source": [
    "y_test_full.shape"
   ]
  },
  {
   "cell_type": "code",
   "execution_count": 36,
   "metadata": {
    "collapsed": true
   },
   "outputs": [],
   "source": [
    "lang_detect = np.array(detect(X_test_full, models, char_indices, indices_char, maxlen = 5))"
   ]
  },
  {
   "cell_type": "code",
   "execution_count": 37,
   "metadata": {
    "collapsed": true
   },
   "outputs": [],
   "source": [
    "yhat = lang_detect[:,0] - lang_detect[:,1]"
   ]
  },
  {
   "cell_type": "code",
   "execution_count": 38,
   "metadata": {
    "collapsed": false
   },
   "outputs": [],
   "source": [
    "from sklearn.metrics import *\n",
    "roc_auc = roc_auc_score(y_test_full,yhat)\n",
    "fpr, tpr, thresholds = roc_curve(y_test_full, yhat)"
   ]
  },
  {
   "cell_type": "code",
   "execution_count": 39,
   "metadata": {
    "collapsed": false
   },
   "outputs": [
    {
     "data": {
      "image/png": "[encoded data removed]",
      "text/plain": [
       "<matplotlib.figure.Figure at 0x115a2fac8>"
      ]
     },
     "metadata": {},
     "output_type": "display_data"
    }
   ],
   "source": [
    "%matplotlib inline\n",
    "import matplotlib.pyplot as plt\n",
    "\n",
    "plt.figure()\n",
    "lw = 2\n",
    "plt.plot(fpr, tpr, color='darkorange',\n",
    "         lw=lw, label='ROC curve (area = %0.4f)' % roc_auc)\n",
    "plt.plot([0, 1], [0, 1], color='navy', lw=lw, linestyle='--')\n",
    "plt.xlim([-0.01, 1.0])\n",
    "plt.ylim([0., 1.05])\n",
    "plt.xlabel('False Positive Rate')\n",
    "plt.ylabel('True Positive Rate')\n",
    "plt.title('ROC of English')\n",
    "plt.legend(loc=\"lower right\")\n",
    "plt.show()"
   ]
  },
  {
   "cell_type": "markdown",
   "metadata": {},
   "source": [
    "As can be seen from the figure, the ROC is slightly lower than the test subset. But the graph is much smoother."
   ]
  },
  {
   "cell_type": "markdown",
   "metadata": {},
   "source": [
    "### 2. Modify maxlen"
   ]
  },
  {
   "cell_type": "markdown",
   "metadata": {},
   "source": [
    "for further use, we encapsulate the model training into a function."
   ]
  },
  {
   "cell_type": "code",
   "execution_count": 40,
   "metadata": {
    "collapsed": false
   },
   "outputs": [],
   "source": [
    "def train_model(X_train, y_train, maxlen, chars, learning_rate = 0.01, batch_size = 128, epochs = 5):\n",
    "    model = Sequential()\n",
    "    model.add(LSTM(128, input_shape=(maxlen, len(chars))))\n",
    "    model.add(Dense(len(chars)))\n",
    "    model.add(Activation('softmax'))\n",
    "    optimizer = RMSprop(lr=learning_rate)\n",
    "    model.compile(loss='categorical_crossentropy', optimizer=optimizer)\n",
    "    model.fit(X_train, y_train, batch_size=batch_size, epochs = epochs)\n",
    "    return model"
   ]
  },
  {
   "cell_type": "code",
   "execution_count": 41,
   "metadata": {
    "collapsed": true
   },
   "outputs": [],
   "source": [
    "from sklearn.metrics import *\n",
    "import matplotlib.pyplot as plt\n",
    "def plot_roc(y_test, yhat, title):\n",
    "    roc_auc = roc_auc_score(y_test,yhat)\n",
    "    fpr, tpr, thresholds = roc_curve(y_test, yhat)\n",
    "    plt.figure()\n",
    "    lw = 2\n",
    "    plt.plot(fpr, tpr, color='darkorange',\n",
    "             lw=lw, label='ROC curve (area = %0.4f)' % roc_auc)\n",
    "    plt.plot([0, 1], [0, 1], color='navy', lw=lw, linestyle='--')\n",
    "    plt.xlim([-0.01, 1.0])\n",
    "    plt.ylim([0., 1.05])\n",
    "    plt.xlabel('False Positive Rate')\n",
    "    plt.ylabel('True Positive Rate')\n",
    "    plt.title('ROC of ' + title)\n",
    "    plt.legend(loc=\"lower right\")\n",
    "    plt.show()"
   ]
  },
  {
   "cell_type": "code",
   "execution_count": 42,
   "metadata": {
    "collapsed": false
   },
   "outputs": [
    {
     "name": "stdout",
     "output_type": "stream",
     "text": [
      "nb sequences: 10736  with maxlen of  10  and step of  1\n",
      "nb sequences: 11999  with maxlen of  10  and step of  1\n"
     ]
    }
   ],
   "source": [
    "eng_sen, eng_next_chars = cut(eng_text, 10)\n",
    "frn_sen, frn_next_chars = cut(frn_text, 10)"
   ]
  },
  {
   "cell_type": "code",
   "execution_count": 43,
   "metadata": {
    "collapsed": false
   },
   "outputs": [],
   "source": [
    "eng_X, eng_y = vectorize(eng_sen, eng_next_chars, chars, char_indices, 10)\n",
    "frn_X, frn_y = vectorize(frn_sen, frn_next_chars, chars, char_indices, 10)"
   ]
  },
  {
   "cell_type": "code",
   "execution_count": 44,
   "metadata": {
    "collapsed": true
   },
   "outputs": [],
   "source": [
    "eng_X_train, eng_X_test, eng_y_train, eng_y_test = train_test_split(eng_X, \n",
    "                                                                     eng_y , \n",
    "                                                                     test_size=0.2, \n",
    "                                                                     random_state=0)\n",
    "frn_X_train, frn_X_test, frn_y_train, frn_y_test = train_test_split(frn_X, \n",
    "                                                                     frn_y , \n",
    "                                                                     test_size=0.2, \n",
    "                                                                     random_state=0)"
   ]
  },
  {
   "cell_type": "code",
   "execution_count": 45,
   "metadata": {
    "collapsed": true
   },
   "outputs": [],
   "source": [
    "eng_index = np.random.choice(range(len(eng_X_test)), 100, replace=False)\n",
    "frn_index = np.random.choice(range(len(frn_X_test)), 100, replace=False)\n",
    "\n",
    "X_test = np.concatenate((eng_X_test[eng_index, :], frn_X_test[frn_index, :]), axis=0)\n",
    "y_test = np.array([1]*100+[0]*100)"
   ]
  },
  {
   "cell_type": "code",
   "execution_count": 46,
   "metadata": {
    "collapsed": false
   },
   "outputs": [
    {
     "name": "stdout",
     "output_type": "stream",
     "text": [
      "Epoch 1/5\n",
      "8588/8588 [==============================] - 4s - loss: 2.9487     \n",
      "Epoch 2/5\n",
      "8588/8588 [==============================] - 3s - loss: 2.3657     \n",
      "Epoch 3/5\n",
      "8588/8588 [==============================] - 4s - loss: 2.0546     \n",
      "Epoch 4/5\n",
      "8588/8588 [==============================] - 3s - loss: 1.8183     \n",
      "Epoch 5/5\n",
      "8588/8588 [==============================] - 3s - loss: 1.6331     \n"
     ]
    }
   ],
   "source": [
    "eng_model = train_model(eng_X_train, eng_y_train, 10, chars)"
   ]
  },
  {
   "cell_type": "code",
   "execution_count": 47,
   "metadata": {
    "collapsed": false
   },
   "outputs": [
    {
     "name": "stdout",
     "output_type": "stream",
     "text": [
      "Epoch 1/5\n",
      "9599/9599 [==============================] - 5s - loss: 2.7151     \n",
      "Epoch 2/5\n",
      "9599/9599 [==============================] - 4s - loss: 2.1595     \n",
      "Epoch 3/5\n",
      "9599/9599 [==============================] - 4s - loss: 1.9054     \n",
      "Epoch 4/5\n",
      "9599/9599 [==============================] - 4s - loss: 1.7116     \n",
      "Epoch 5/5\n",
      "9599/9599 [==============================] - 4s - loss: 1.5566     \n"
     ]
    }
   ],
   "source": [
    "frn_model = train_model(frn_X_train, frn_y_train, 10, chars)"
   ]
  },
  {
   "cell_type": "code",
   "execution_count": 48,
   "metadata": {
    "collapsed": true
   },
   "outputs": [],
   "source": [
    "models = [eng_model, frn_model]"
   ]
  },
  {
   "cell_type": "code",
   "execution_count": 49,
   "metadata": {
    "collapsed": true
   },
   "outputs": [],
   "source": [
    "lang_detect = np.array(detect(X_test, models, char_indices, indices_char, 10))"
   ]
  },
  {
   "cell_type": "code",
   "execution_count": 50,
   "metadata": {
    "collapsed": false
   },
   "outputs": [
    {
     "data": {
      "image/png": "[encoded data removed]",
      "text/plain": [
       "<matplotlib.figure.Figure at 0x117edbcf8>"
      ]
     },
     "metadata": {},
     "output_type": "display_data"
    }
   ],
   "source": [
    "yhat = lang_detect[:,0] - lang_detect[:,1]\n",
    "plot_roc(y_test,yhat,'English')"
   ]
  },
  {
   "cell_type": "markdown",
   "metadata": {},
   "source": [
    "As we can see, the ROC is much higher than the case where max_len = 5. It might reflect that the mean length of words in the sample is longer than 5 letters. As can be seen from the text, the sample text uses a lot of fancy, long words."
   ]
  },
  {
   "cell_type": "markdown",
   "metadata": {},
   "source": [
    "### 3. Add Language - Latin"
   ]
  },
  {
   "cell_type": "markdown",
   "metadata": {},
   "source": [
    "Some languages are easy to detect since they have very different letters. From the selected languages, we decide to use Latin since its alphabet has a large overlap with English and French."
   ]
  },
  {
   "cell_type": "code",
   "execution_count": 51,
   "metadata": {
    "collapsed": true
   },
   "outputs": [],
   "source": [
    "ltn_text = read_file(\"ltn.txt\")"
   ]
  },
  {
   "cell_type": "code",
   "execution_count": 52,
   "metadata": {
    "collapsed": true
   },
   "outputs": [],
   "source": [
    "ltn_chars = sorted(list(set(ltn_text)))"
   ]
  },
  {
   "cell_type": "code",
   "execution_count": 53,
   "metadata": {
    "collapsed": true
   },
   "outputs": [],
   "source": [
    "chars = sorted(list((set(eng_text)|set(frn_text)|set(ltn_text))))"
   ]
  },
  {
   "cell_type": "code",
   "execution_count": 54,
   "metadata": {
    "collapsed": false
   },
   "outputs": [
    {
     "name": "stdout",
     "output_type": "stream",
     "text": [
      "total chars: 45\n"
     ]
    }
   ],
   "source": [
    "print('total chars:', len(chars))"
   ]
  },
  {
   "cell_type": "code",
   "execution_count": 55,
   "metadata": {
    "collapsed": true
   },
   "outputs": [],
   "source": [
    "char_indices = dict((c, i) for i, c in enumerate(chars))\n",
    "indices_char = dict((i, c) for i, c in enumerate(chars))"
   ]
  },
  {
   "cell_type": "code",
   "execution_count": 56,
   "metadata": {
    "collapsed": false
   },
   "outputs": [
    {
     "name": "stdout",
     "output_type": "stream",
     "text": [
      "nb sequences: 11999  with maxlen of  10  and step of  1\n"
     ]
    }
   ],
   "source": [
    "ltn_sen, ltn_next_chars = cut(frn_text, 10)"
   ]
  },
  {
   "cell_type": "code",
   "execution_count": 57,
   "metadata": {
    "collapsed": true
   },
   "outputs": [],
   "source": [
    "eng_X, eng_y = vectorize(eng_sen, eng_next_chars, chars, char_indices, 10)\n",
    "frn_X, frn_y = vectorize(frn_sen, frn_next_chars, chars, char_indices, 10)\n",
    "ltn_X, ltn_y = vectorize(ltn_sen, ltn_next_chars, chars, char_indices, 10)"
   ]
  },
  {
   "cell_type": "code",
   "execution_count": 58,
   "metadata": {
    "collapsed": true
   },
   "outputs": [],
   "source": [
    "eng_X_train, eng_X_test, eng_y_train, eng_y_test = train_test_split(eng_X, \n",
    "                                                                     eng_y , \n",
    "                                                                     test_size=0.2, \n",
    "                                                                     random_state=0)\n",
    "frn_X_train, frn_X_test, frn_y_train, frn_y_test = train_test_split(frn_X, \n",
    "                                                                     frn_y , \n",
    "                                                                     test_size=0.2, \n",
    "                                                                     random_state=0)\n",
    "ltn_X_train, ltn_X_test, ltn_y_train, ltn_y_test = train_test_split(ltn_X, \n",
    "                                                                     ltn_y , \n",
    "                                                                     test_size=0.2, \n",
    "                                                                     random_state=0)"
   ]
  },
  {
   "cell_type": "code",
   "execution_count": 59,
   "metadata": {
    "collapsed": false
   },
   "outputs": [],
   "source": [
    "eng_index = np.random.choice(range(len(eng_X_test)), 100, replace=False)\n",
    "frn_index = np.random.choice(range(len(frn_X_test)), 100, replace=False)\n",
    "ltn_index = np.random.choice(range(len(ltn_X_test)), 100, replace=False)\n",
    "\n",
    "X_test = np.concatenate((eng_X_test[eng_index, :], frn_X_test[frn_index, :], ltn_X_test[ltn_index, :]), axis=0)\n",
    "y_test = np.array([0]*100+[1]*100+[2]*100)"
   ]
  },
  {
   "cell_type": "code",
   "execution_count": 60,
   "metadata": {
    "collapsed": false,
    "scrolled": true
   },
   "outputs": [
    {
     "name": "stdout",
     "output_type": "stream",
     "text": [
      "Epoch 1/5\n",
      "8588/8588 [==============================] - 4s - loss: 2.7899     \n",
      "Epoch 2/5\n",
      "8588/8588 [==============================] - 3s - loss: 2.1456     \n",
      "Epoch 3/5\n",
      "8588/8588 [==============================] - 4s - loss: 1.8411     \n",
      "Epoch 4/5\n",
      "8588/8588 [==============================] - 3s - loss: 1.6082     \n",
      "Epoch 5/5\n",
      "8588/8588 [==============================] - 4s - loss: 1.4188     \n"
     ]
    }
   ],
   "source": [
    "eng_model = train_model(eng_X_train, eng_y_train, 10, chars)"
   ]
  },
  {
   "cell_type": "code",
   "execution_count": 61,
   "metadata": {
    "collapsed": false
   },
   "outputs": [
    {
     "name": "stdout",
     "output_type": "stream",
     "text": [
      "Epoch 1/5\n",
      "9599/9599 [==============================] - 4s - loss: 2.5980     \n",
      "Epoch 2/5\n",
      "9599/9599 [==============================] - 4s - loss: 2.0279     \n",
      "Epoch 3/5\n",
      "9599/9599 [==============================] - 4s - loss: 1.7505     \n",
      "Epoch 4/5\n",
      "9599/9599 [==============================] - 4s - loss: 1.5546     \n",
      "Epoch 5/5\n",
      "9599/9599 [==============================] - 4s - loss: 1.3753     \n"
     ]
    }
   ],
   "source": [
    "frn_model = train_model(frn_X_train, frn_y_train, 10, chars)"
   ]
  },
  {
   "cell_type": "code",
   "execution_count": 62,
   "metadata": {
    "collapsed": false
   },
   "outputs": [
    {
     "name": "stdout",
     "output_type": "stream",
     "text": [
      "Epoch 1/5\n",
      "9599/9599 [==============================] - 4s - loss: 2.8122     \n",
      "Epoch 2/5\n",
      "9599/9599 [==============================] - 4s - loss: 2.2743     \n",
      "Epoch 3/5\n",
      "9599/9599 [==============================] - 4s - loss: 1.9779     \n",
      "Epoch 4/5\n",
      "9599/9599 [==============================] - 4s - loss: 1.7621     \n",
      "Epoch 5/5\n",
      "9599/9599 [==============================] - 4s - loss: 1.5927     \n"
     ]
    }
   ],
   "source": [
    "ltn_model = train_model(ltn_X_train, ltn_y_train, 10, chars)"
   ]
  },
  {
   "cell_type": "code",
   "execution_count": 63,
   "metadata": {
    "collapsed": true
   },
   "outputs": [],
   "source": [
    "models = [eng_model, frn_model, ltn_model]"
   ]
  },
  {
   "cell_type": "code",
   "execution_count": 64,
   "metadata": {
    "collapsed": true
   },
   "outputs": [],
   "source": [
    "lang_detect = np.array(detect(X_test, models, char_indices, indices_char, 10))"
   ]
  },
  {
   "cell_type": "code",
   "execution_count": 65,
   "metadata": {
    "collapsed": false
   },
   "outputs": [],
   "source": [
    "pred_result = np.argmax(lang_detect,axis = 1)"
   ]
  },
  {
   "cell_type": "code",
   "execution_count": 66,
   "metadata": {
    "collapsed": false
   },
   "outputs": [
    {
     "data": {
      "text/plain": [
       "0.59999999999999998"
      ]
     },
     "execution_count": 66,
     "metadata": {},
     "output_type": "execute_result"
    }
   ],
   "source": [
    "accuracy_score(y_test, pred_result)"
   ]
  },
  {
   "cell_type": "markdown",
   "metadata": {},
   "source": [
    "The accuracy is satisfactory for three similar languages."
   ]
  },
  {
   "cell_type": "code",
   "execution_count": 67,
   "metadata": {
    "collapsed": false
   },
   "outputs": [
    {
     "data": {
      "text/plain": [
       "array([0, 0, 0, 0, 0, 0, 0, 0, 1, 0, 0, 1, 0, 0, 0, 0, 0, 0, 0, 0, 0, 0, 0,\n",
       "       0, 0, 2, 0, 0, 0, 0, 0, 1, 0, 0, 0, 0, 0, 0, 0, 0, 1, 0, 0, 0, 1, 0,\n",
       "       2, 0, 0, 0, 0, 0, 0, 0, 0, 0, 0, 0, 0, 0, 0, 0, 0, 0, 0, 2, 0, 0, 0,\n",
       "       0, 0, 1, 0, 0, 0, 0, 1, 0, 0, 0, 0, 0, 0, 0, 1, 0, 0, 2, 0, 0, 0, 0,\n",
       "       0, 0, 2, 0, 0, 0, 0, 0, 2, 2, 1, 0, 2, 2, 1, 1, 1, 1, 1, 1, 1, 1, 2,\n",
       "       2, 1, 2, 2, 1, 1, 1, 2, 2, 1, 1, 1, 1, 1, 1, 2, 1, 1, 2, 1, 1, 2, 1,\n",
       "       1, 1, 2, 1, 1, 1, 2, 1, 1, 1, 1, 1, 0, 2, 1, 1, 2, 2, 2, 1, 1, 1, 2,\n",
       "       1, 1, 1, 1, 1, 1, 2, 2, 2, 2, 2, 1, 1, 1, 2, 1, 2, 1, 1, 2, 2, 2, 1,\n",
       "       2, 1, 2, 1, 1, 2, 1, 1, 1, 0, 1, 1, 1, 2, 2, 1, 1, 2, 1, 2, 1, 1, 1,\n",
       "       1, 1, 1, 1, 2, 2, 1, 2, 2, 1, 2, 2, 1, 2, 1, 1, 1, 1, 2, 1, 1, 1, 0,\n",
       "       1, 1, 1, 2, 1, 2, 1, 2, 2, 2, 1, 1, 1, 2, 1, 1, 2, 2, 1, 2, 2, 1, 1,\n",
       "       1, 1, 1, 2, 1, 1, 1, 1, 1, 2, 1, 1, 1, 1, 2, 1, 1, 1, 1, 2, 1, 2, 2,\n",
       "       1, 1, 2, 1, 1, 0, 1, 1, 1, 2, 1, 2, 1, 1, 1, 1, 1, 1, 2, 2, 1, 1, 1,\n",
       "       1])"
      ]
     },
     "execution_count": 67,
     "metadata": {},
     "output_type": "execute_result"
    }
   ],
   "source": [
    "pred_result"
   ]
  },
  {
   "cell_type": "markdown",
   "metadata": {},
   "source": [
    "It can be seen from the predicted categories, Latin can be easily prediced to be French and sometimes English. French uses a lof of Latin vocabulary and English borrows many words from French."
   ]
  }
 ],
 "metadata": {
  "anaconda-cloud": {},
  "kernelspec": {
   "display_name": "cse6240",
   "language": "python",
   "name": "cse6240"
  },
  "language_info": {
   "codemirror_mode": {
    "name": "ipython",
    "version": 3
   },
   "file_extension": ".py",
   "mimetype": "text/x-python",
   "name": "python",
   "nbconvert_exporter": "python",
   "pygments_lexer": "ipython3",
   "version": "3.6.0"
  }
 },
 "nbformat": 4,
 "nbformat_minor": 2
}
