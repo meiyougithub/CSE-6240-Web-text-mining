{
 "cells": [
  {
   "cell_type": "markdown",
   "metadata": {},
   "source": [
    "## Problem 3 - Xianghui Gu"
   ]
  },
  {
   "cell_type": "markdown",
   "metadata": {},
   "source": [
    "### 3.1 Preprocess the data"
   ]
  },
  {
   "cell_type": "code",
   "execution_count": 37,
   "metadata": {
    "collapsed": true
   },
   "outputs": [],
   "source": [
    "%matplotlib inline"
   ]
  },
  {
   "cell_type": "code",
   "execution_count": 5,
   "metadata": {
    "collapsed": false
   },
   "outputs": [],
   "source": [
    "import skimage\n",
    "import numpy as np\n",
    "import matplotlib.pyplot as plt"
   ]
  },
  {
   "cell_type": "markdown",
   "metadata": {},
   "source": [
    "- import images from folder"
   ]
  },
  {
   "cell_type": "code",
   "execution_count": 56,
   "metadata": {
    "collapsed": false
   },
   "outputs": [],
   "source": [
    "from os import walk\n",
    "\n",
    "image_names = []\n",
    "for (dirpath, dirnames, filenames) in walk('q3/'):\n",
    "    image_names.extend(filenames)\n",
    "\n",
    "image_names = image_names[1:]"
   ]
  },
  {
   "cell_type": "markdown",
   "metadata": {},
   "source": [
    "- loop to convert figures to vectors ( autoencoder and svd needs further modification in next few chapters)"
   ]
  },
  {
   "cell_type": "markdown",
   "metadata": {},
   "source": [
    "- rgb and hsv histograms are generated here !!! (3.2.3 and 3.2.4)"
   ]
  },
  {
   "cell_type": "code",
   "execution_count": 140,
   "metadata": {
    "collapsed": false
   },
   "outputs": [
    {
     "name": "stdout",
     "output_type": "stream",
     "text": [
      "image  468  fails\n",
      "image  2243  fails\n",
      "image  2377  fails\n",
      "image  4115  fails\n",
      "image  4642  fails\n",
      "image  4745  fails\n",
      "image  5349  fails\n",
      "image  5909  fails\n",
      "image  6433  fails\n",
      "image  6515  fails\n",
      "image  6909  fails\n",
      "image  6979  fails\n",
      "image  7070  fails\n",
      "image  7350  fails\n",
      "14.11398261388143\n"
     ]
    }
   ],
   "source": [
    "from skimage import io\n",
    "from skimage.color import rgb2hsv\n",
    "from skimage.transform import resize\n",
    "from time import time\n",
    "\n",
    "stime = time()\n",
    "image_num = len(image_names)\n",
    "fail_id = []\n",
    "\n",
    "enc_mat = np.empty([image_num, 64, 64, 3])\n",
    "svd_mat = np.empty([image_num, 64*64*3])\n",
    "rgb_hists = np.empty([image_num, 256*3])\n",
    "hsv_hists = np.empty([image_num, 256*3])\n",
    "\n",
    "for i in range(image_num):\n",
    "    sample = io.imread('q3/' + image_names[i])\n",
    "    \n",
    "    # resize the image to 64*64\n",
    "    small = resize(sample, (64, 64, 3))\n",
    "    \n",
    "    ### 1. autoencoder\n",
    "    enc_mat[i,:,:,:] = small\n",
    "    \n",
    "    ### 2. SVD\n",
    "    svd_mat[i,:] = small.flatten('F')\n",
    "    \n",
    "    try:\n",
    "        # count how many pixels per layer\n",
    "        length, width, height = sample.shape\n",
    "        area = length * width\n",
    "\n",
    "        ### 3. rgb\n",
    "        rgb_hist = np.array([])\n",
    "        for path in range(3):\n",
    "            hist, bins = np.histogram(sample[:,:,path],256,[0,256])\n",
    "            rgb_hist = np.append(rgb_hist, hist)\n",
    "        rgb_hists[i,:] = rgb_hist / area\n",
    "\n",
    "        ### 4. hsv\n",
    "        hsv = rgb2hsv(sample)\n",
    "        hsv_hist = np.array([])\n",
    "        for path in range(3):\n",
    "            hist, bins = np.histogram(hsv[:,:,path],256,[0,1])\n",
    "            hsv_hist = np.append(hsv_hist, hist)\n",
    "        hsv_hists[i,:] = hsv_hist / area \n",
    "    except:\n",
    "        print(\"image \",i,\" fails\")\n",
    "        fail_id.append(i)\n",
    "        continue\n",
    "etime = time()\n",
    "print((etime-stime)/60)"
   ]
  },
  {
   "cell_type": "markdown",
   "metadata": {},
   "source": [
    "- clean black and white images"
   ]
  },
  {
   "cell_type": "code",
   "execution_count": 184,
   "metadata": {
    "collapsed": false
   },
   "outputs": [
    {
     "data": {
      "text/plain": [
       "8987"
      ]
     },
     "execution_count": 184,
     "metadata": {},
     "output_type": "execute_result"
    }
   ],
   "source": [
    "person = [1]*1242\n",
    "animal = [2]*1571\n",
    "plant = [3]*1271\n",
    "sport = [4]*1888\n",
    "geo = [5]*1808\n",
    "fungus = [6]*1207\n",
    "tag = person + animal + plant + sport + geo + fungus\n",
    "len(tag)"
   ]
  },
  {
   "cell_type": "code",
   "execution_count": 185,
   "metadata": {
    "collapsed": false
   },
   "outputs": [],
   "source": [
    "colorful = list(set(range(len(tag)))- set(fail_id))\n",
    "tag_tot = np.array(tag)"
   ]
  },
  {
   "cell_type": "markdown",
   "metadata": {},
   "source": [
    "### 3.2 Two detailed methods to reduct dimension"
   ]
  },
  {
   "cell_type": "markdown",
   "metadata": {},
   "source": [
    "- divide 80/20 train/test split\n",
    "(tag is the classification, index is the original index before split)"
   ]
  },
  {
   "cell_type": "code",
   "execution_count": 196,
   "metadata": {
    "collapsed": false
   },
   "outputs": [],
   "source": [
    "from sklearn.cross_validation import train_test_split\n",
    "enc_train, enc_test, svd_train, svd_test, rgb_train, rgb_test, hsv_train, hsv_test, tag_train, tag_test, index_train, index_test \\\n",
    "                   = train_test_split(enc_mat[colorful],\n",
    "                   svd_mat[colorful], rgb_hists[colorful], hsv_hists[colorful],\n",
    "                   tag_tot[colorful], colorful, test_size=0.20, random_state=0)\n"
   ]
  },
  {
   "cell_type": "markdown",
   "metadata": {},
   "source": [
    "#### 3.2.1 Autoencoder"
   ]
  },
  {
   "cell_type": "markdown",
   "metadata": {},
   "source": [
    "- normalize the encoder matrix and adjust the type"
   ]
  },
  {
   "cell_type": "code",
   "execution_count": 209,
   "metadata": {
    "collapsed": false
   },
   "outputs": [],
   "source": [
    "enc_train_normal = enc_train.astype('float32') / 255.\n",
    "enc_test_normal = enc_test.astype('float32') / 255."
   ]
  },
  {
   "cell_type": "markdown",
   "metadata": {},
   "source": [
    "- train the autoencoder"
   ]
  },
  {
   "cell_type": "code",
   "execution_count": 213,
   "metadata": {
    "collapsed": false
   },
   "outputs": [
    {
     "name": "stdout",
     "output_type": "stream",
     "text": [
      "Train on 7178 samples, validate on 1795 samples\n",
      "Epoch 1/10\n",
      "7178/7178 [==============================] - 61s - loss: 0.2901 - mean_squared_error: 0.0959 - val_loss: 0.0183 - val_mean_squared_error: 4.1109e-04\n",
      "Epoch 2/10\n",
      "7178/7178 [==============================] - 62s - loss: 0.0180 - mean_squared_error: 3.2500e-04 - val_loss: 0.0178 - val_mean_squared_error: 2.8433e-04\n",
      "Epoch 3/10\n",
      "7178/7178 [==============================] - 66s - loss: 0.0176 - mean_squared_error: 2.6570e-04 - val_loss: 0.0173 - val_mean_squared_error: 2.4823e-04\n",
      "Epoch 4/10\n",
      "7178/7178 [==============================] - 60s - loss: 0.0170 - mean_squared_error: 2.2289e-04 - val_loss: 0.0166 - val_mean_squared_error: 1.9646e-04\n",
      "Epoch 5/10\n",
      "7178/7178 [==============================] - 60s - loss: 0.0162 - mean_squared_error: 1.7007e-04 - val_loss: 0.0158 - val_mean_squared_error: 1.4597e-04\n",
      "Epoch 6/10\n",
      "7178/7178 [==============================] - 60s - loss: 0.0154 - mean_squared_error: 1.2114e-04 - val_loss: 0.0150 - val_mean_squared_error: 1.0120e-04\n",
      "Epoch 7/10\n",
      "7178/7178 [==============================] - 61s - loss: 0.0147 - mean_squared_error: 8.1065e-05 - val_loss: 0.0143 - val_mean_squared_error: 6.4979e-05\n",
      "Epoch 8/10\n",
      "7178/7178 [==============================] - 72s - loss: 0.0140 - mean_squared_error: 5.0372e-05 - val_loss: 0.0136 - val_mean_squared_error: 3.8795e-05\n",
      "Epoch 9/10\n",
      "7178/7178 [==============================] - 63s - loss: 0.0134 - mean_squared_error: 2.8192e-05 - val_loss: 0.0131 - val_mean_squared_error: 1.9231e-05\n",
      "Epoch 10/10\n",
      "7178/7178 [==============================] - 67s - loss: 0.0129 - mean_squared_error: 1.4106e-05 - val_loss: 0.0127 - val_mean_squared_error: 9.8039e-06\n"
     ]
    }
   ],
   "source": [
    "from keras.layers import Input, Dense, Conv2D, MaxPooling2D, UpSampling2D\n",
    "from keras.models import Model\n",
    "from keras import backend as K\n",
    "\n",
    "input_img = Input(shape=(64, 64, 3))\n",
    "\n",
    "x = Conv2D(16, (3, 3), activation='relu', padding='same')(input_img)\n",
    "x = MaxPooling2D((2, 2), padding='same')(x)\n",
    "x = Conv2D(16, (3, 3), activation='relu', padding='same')(x)\n",
    "encoded = MaxPooling2D((2, 2), padding='same')(x)\n",
    "\n",
    "x = Conv2D(16, (3, 3), activation='relu', padding='same')(encoded)\n",
    "x = UpSampling2D((2, 2))(x)\n",
    "x = Conv2D(16, (3, 3), activation='relu', padding='same')(x)\n",
    "x = UpSampling2D((2, 2))(x)\n",
    "decoded = Conv2D(3, (3, 3), activation='sigmoid', padding='same')(x)\n",
    "\n",
    "autoencoder = Model(input_img, decoded)\n",
    "autoencoder.compile(optimizer='adadelta', loss='binary_crossentropy',metrics=['mse'])\n",
    "\n",
    "history = autoencoder.fit(enc_train_normal, enc_train_normal,\n",
    "                epochs=10,\n",
    "                batch_size=128,\n",
    "                shuffle=True,\n",
    "                validation_data=(enc_test_normal, enc_test_normal))"
   ]
  },
  {
   "cell_type": "markdown",
   "metadata": {},
   "source": [
    "- predict both datasets for further comparison"
   ]
  },
  {
   "cell_type": "code",
   "execution_count": 307,
   "metadata": {
    "collapsed": false
   },
   "outputs": [],
   "source": [
    "output = Model(input_img, encoded)\n",
    "enc_test_pred = output.predict(enc_test_normal)\n",
    "enc_train_pred = output.predict(enc_train_normal)"
   ]
  },
  {
   "cell_type": "markdown",
   "metadata": {},
   "source": [
    "#### 3.2.2 SVD"
   ]
  },
  {
   "cell_type": "markdown",
   "metadata": {},
   "source": [
    "First, we try k = 50 to plot the singular value trend."
   ]
  },
  {
   "cell_type": "code",
   "execution_count": 224,
   "metadata": {
    "collapsed": true
   },
   "outputs": [],
   "source": [
    "from scipy.sparse.linalg import svds\n",
    "u_red, s_red, v_red = svds(svd_train, k = 50)"
   ]
  },
  {
   "cell_type": "code",
   "execution_count": 226,
   "metadata": {
    "collapsed": false
   },
   "outputs": [
    {
     "data": {
      "text/plain": [
       "[<matplotlib.lines.Line2D at 0x1540cc5f8>]"
      ]
     },
     "execution_count": 226,
     "metadata": {},
     "output_type": "execute_result"
    },
    {
     "data": {
      "image/png": "[encoded data removed]",
      "text/plain": [
       "<matplotlib.figure.Figure at 0x153b90978>"
      ]
     },
     "metadata": {},
     "output_type": "display_data"
    }
   ],
   "source": [
    "plt.plot(s_red[::-1])"
   ]
  },
  {
   "cell_type": "markdown",
   "metadata": {},
   "source": [
    "As can be seen from the figure, the singular value tends to be stable after k = 40. Hence, we select 40."
   ]
  },
  {
   "cell_type": "code",
   "execution_count": 394,
   "metadata": {
    "collapsed": true
   },
   "outputs": [],
   "source": [
    "from sklearn.decomposition import TruncatedSVD\n",
    "svd = TruncatedSVD(n_components = 40)\n",
    "svd_train_pred = svd.fit_transform(svd_train)\n",
    "svd_test_pred = svd.transform(svd_test)"
   ]
  },
  {
   "cell_type": "markdown",
   "metadata": {},
   "source": [
    "#### 3.2.3 RGB\n",
    "\n",
    "See 3.1\n",
    "\n",
    "#### 3.2.4 HSV\n",
    "\n",
    "See 3.1"
   ]
  },
  {
   "cell_type": "markdown",
   "metadata": {},
   "source": [
    "### 3.3 Classification"
   ]
  },
  {
   "cell_type": "markdown",
   "metadata": {},
   "source": [
    "- distance function"
   ]
  },
  {
   "cell_type": "code",
   "execution_count": 267,
   "metadata": {
    "collapsed": false
   },
   "outputs": [],
   "source": [
    "from scipy.stats import pearsonr\n",
    "from sklearn.metrics.pairwise import euclidean_distances\n",
    "def pearsonr_distances(X, Y):\n",
    "    left = len(X)\n",
    "    top = len(Y)\n",
    "    result = np.empty([left, top])\n",
    "    for i in range(left):\n",
    "        for j in range(top):\n",
    "            result[i][j] = pearsonr(X[i],Y[j])[0] ### pearsonr returns (coef, p-value)\n",
    "    return result"
   ]
  },
  {
   "cell_type": "markdown",
   "metadata": {},
   "source": [
    "- select smallest for euclidean_distances"
   ]
  },
  {
   "cell_type": "code",
   "execution_count": 286,
   "metadata": {
    "collapsed": true
   },
   "outputs": [],
   "source": [
    "def smallest(k, vec):\n",
    "    ind = np.argpartition(vec, k)[:k]\n",
    "    return ind"
   ]
  },
  {
   "cell_type": "markdown",
   "metadata": {},
   "source": [
    "- select largest for pearsonr_distances"
   ]
  },
  {
   "cell_type": "code",
   "execution_count": 285,
   "metadata": {
    "collapsed": true
   },
   "outputs": [],
   "source": [
    "def largest(k, vec):\n",
    "    ind = np.argpartition(vec, -k)[-k:]\n",
    "    return ind"
   ]
  },
  {
   "cell_type": "markdown",
   "metadata": {},
   "source": [
    "- KNN (k = 5) Vote"
   ]
  },
  {
   "cell_type": "code",
   "execution_count": 353,
   "metadata": {
    "collapsed": true
   },
   "outputs": [],
   "source": [
    "from scipy.stats import mode\n",
    "### dist:'e' or 'p'\n",
    "def KNNVote(k, distances, dist):\n",
    "    if dist!='e' and dist!='p':\n",
    "        print('error: select e or p in dist')\n",
    "        return\n",
    "    \n",
    "    guess = []\n",
    "    num_row, num_col = distances.shape\n",
    "    \n",
    "    for i in range(num_row):\n",
    "        \n",
    "        if dist == 'e':\n",
    "            cand = smallest(k,distances[i])\n",
    "        else:\n",
    "            cand = largest(k,distances[i])\n",
    "        \n",
    "        vote = mode(tag_train[cand])[0][0]\n",
    "        guess.append(vote)\n",
    "    \n",
    "    return guess"
   ]
  },
  {
   "cell_type": "markdown",
   "metadata": {},
   "source": [
    "- compute accuracy"
   ]
  },
  {
   "cell_type": "code",
   "execution_count": 357,
   "metadata": {
    "collapsed": true
   },
   "outputs": [],
   "source": [
    "def acc(y_true, y_pred):\n",
    "    count = 0\n",
    "    length = len(y_true)\n",
    "    for i in range(length):\n",
    "        if y_true[i] == y_pred[i]:\n",
    "            count += 1\n",
    "    return count/float(length)"
   ]
  },
  {
   "cell_type": "code",
   "execution_count": 316,
   "metadata": {
    "collapsed": true
   },
   "outputs": [],
   "source": [
    "from sklearn.metrics import confusion_matrix"
   ]
  },
  {
   "cell_type": "markdown",
   "metadata": {},
   "source": [
    "#### 3.3.1 autoencoder"
   ]
  },
  {
   "cell_type": "code",
   "execution_count": 309,
   "metadata": {
    "collapsed": false
   },
   "outputs": [],
   "source": [
    "x1 = enc_test_pred.reshape(len(enc_test_pred),np.prod((enc_test_pred).shape[1:]))\n",
    "y1 = enc_train_pred.reshape(len(enc_train_pred),np.prod((enc_test_pred).shape[1:]))"
   ]
  },
  {
   "cell_type": "markdown",
   "metadata": {},
   "source": [
    "- compute distances"
   ]
  },
  {
   "cell_type": "code",
   "execution_count": 310,
   "metadata": {
    "collapsed": true
   },
   "outputs": [],
   "source": [
    "ed_1 = euclidean_distances(x1,y1)"
   ]
  },
  {
   "cell_type": "code",
   "execution_count": 349,
   "metadata": {
    "collapsed": false
   },
   "outputs": [],
   "source": [
    "pc_1 = pearsonr_distances(x1,y1)"
   ]
  },
  {
   "cell_type": "markdown",
   "metadata": {},
   "source": [
    "- Vote"
   ]
  },
  {
   "cell_type": "code",
   "execution_count": 354,
   "metadata": {
    "collapsed": false
   },
   "outputs": [],
   "source": [
    "ed_guess_1 = KNNVote(5, ed_1, 'e')\n",
    "pc_guess_1 = KNNVote(5, pc_1, 'p')"
   ]
  },
  {
   "cell_type": "code",
   "execution_count": 379,
   "metadata": {
    "collapsed": false
   },
   "outputs": [
    {
     "name": "stdout",
     "output_type": "stream",
     "text": [
      "autoencoder and euclidean accuracy: 0.32\n"
     ]
    }
   ],
   "source": [
    "print(\"autoencoder\",\"and euclidean accuracy: %.2f\"%acc(tag_test,ed_guess_1))"
   ]
  },
  {
   "cell_type": "code",
   "execution_count": 368,
   "metadata": {
    "collapsed": false
   },
   "outputs": [
    {
     "name": "stdout",
     "output_type": "stream",
     "text": [
      "[[ 77  61  24  17  62  11]\n",
      " [ 57 101  32  26  82   7]\n",
      " [ 83  56  45   8  32  22]\n",
      " [ 78 102  28  72  68  13]\n",
      " [ 39  59  24  13 235  13]\n",
      " [102  44  39   2  22  39]]\n"
     ]
    }
   ],
   "source": [
    "print(confusion_matrix(tag_test, ed_guess_1, sample_weight=None))"
   ]
  },
  {
   "cell_type": "code",
   "execution_count": 380,
   "metadata": {
    "collapsed": false
   },
   "outputs": [
    {
     "name": "stdout",
     "output_type": "stream",
     "text": [
      "autoencoder and pearson accuracy: 0.36\n"
     ]
    }
   ],
   "source": [
    "print(\"autoencoder\",\"and pearson accuracy: %.2f\"%acc(tag_test,pc_guess_1))"
   ]
  },
  {
   "cell_type": "code",
   "execution_count": 367,
   "metadata": {
    "collapsed": false
   },
   "outputs": [
    {
     "name": "stdout",
     "output_type": "stream",
     "text": [
      "[[ 52  58  26  21  82  13]\n",
      " [ 18 115  23  23 108  18]\n",
      " [ 13  71  54   9  75  24]\n",
      " [ 22 105  23  88 111  12]\n",
      " [  9  51  11  16 288   8]\n",
      " [ 16  62  32   4  85  49]]\n"
     ]
    }
   ],
   "source": [
    "print(confusion_matrix(tag_test, pc_guess_1, sample_weight=None))"
   ]
  },
  {
   "cell_type": "markdown",
   "metadata": {},
   "source": [
    "#### 3.3.2 SVD"
   ]
  },
  {
   "cell_type": "code",
   "execution_count": 396,
   "metadata": {
    "collapsed": true
   },
   "outputs": [],
   "source": [
    "x2 = svd_test_pred\n",
    "y2 = svd_train_pred"
   ]
  },
  {
   "cell_type": "markdown",
   "metadata": {},
   "source": [
    "- compute distances"
   ]
  },
  {
   "cell_type": "code",
   "execution_count": 397,
   "metadata": {
    "collapsed": true
   },
   "outputs": [],
   "source": [
    "ed_2 = euclidean_distances(x2,y2)"
   ]
  },
  {
   "cell_type": "code",
   "execution_count": 398,
   "metadata": {
    "collapsed": true
   },
   "outputs": [],
   "source": [
    "pc_2 = pearsonr_distances(x2,y2)"
   ]
  },
  {
   "cell_type": "markdown",
   "metadata": {},
   "source": [
    "- Vote"
   ]
  },
  {
   "cell_type": "code",
   "execution_count": 399,
   "metadata": {
    "collapsed": false
   },
   "outputs": [],
   "source": [
    "ed_guess_2 = KNNVote(5, ed_2, 'e')\n",
    "pc_guess_2 = KNNVote(5, pc_2, 'p')"
   ]
  },
  {
   "cell_type": "code",
   "execution_count": 407,
   "metadata": {
    "collapsed": false
   },
   "outputs": [
    {
     "name": "stdout",
     "output_type": "stream",
     "text": [
      "SVD and euclidean accuracy: 0.41\n"
     ]
    }
   ],
   "source": [
    "print(\"SVD\",\"and euclidean accuracy: %.2f\"%acc(tag_test,ed_guess_2))"
   ]
  },
  {
   "cell_type": "code",
   "execution_count": 402,
   "metadata": {
    "collapsed": false
   },
   "outputs": [
    {
     "name": "stdout",
     "output_type": "stream",
     "text": [
      "[[ 70  48  22  44  55  13]\n",
      " [ 25  74  57  62  60  27]\n",
      " [ 11  37 119  26  28  25]\n",
      " [ 18  60  38 156  73  16]\n",
      " [ 12  45  25  46 241  14]\n",
      " [ 22  36  60  24  34  72]]\n"
     ]
    }
   ],
   "source": [
    "print(confusion_matrix(tag_test, ed_guess_2, sample_weight=None))"
   ]
  },
  {
   "cell_type": "code",
   "execution_count": 406,
   "metadata": {
    "collapsed": false,
    "scrolled": true
   },
   "outputs": [
    {
     "name": "stdout",
     "output_type": "stream",
     "text": [
      "SVD and pearson accuracy: 0.40\n"
     ]
    }
   ],
   "source": [
    "print(\"SVD\",\"and pearson accuracy: %.2f\"%acc(tag_test,pc_guess_2))"
   ]
  },
  {
   "cell_type": "code",
   "execution_count": 403,
   "metadata": {
    "collapsed": false
   },
   "outputs": [
    {
     "name": "stdout",
     "output_type": "stream",
     "text": [
      "[[ 65  56  18  36  61  16]\n",
      " [ 32  81  52  63  54  23]\n",
      " [ 10  47 116  15  38  20]\n",
      " [ 26  58  26 141  97  13]\n",
      " [ 21  34  14  45 255  14]\n",
      " [ 14  52  56  17  41  68]]\n"
     ]
    }
   ],
   "source": [
    "print(confusion_matrix(tag_test, pc_guess_2, sample_weight=None))"
   ]
  },
  {
   "cell_type": "markdown",
   "metadata": {},
   "source": [
    "#### 3.3.3 RGB"
   ]
  },
  {
   "cell_type": "code",
   "execution_count": 369,
   "metadata": {
    "collapsed": true
   },
   "outputs": [],
   "source": [
    "x3 = rgb_test\n",
    "y3 = rgb_train"
   ]
  },
  {
   "cell_type": "markdown",
   "metadata": {},
   "source": [
    "- compute distances"
   ]
  },
  {
   "cell_type": "code",
   "execution_count": 370,
   "metadata": {
    "collapsed": true
   },
   "outputs": [],
   "source": [
    "ed_3 = euclidean_distances(x3,y3)"
   ]
  },
  {
   "cell_type": "code",
   "execution_count": 371,
   "metadata": {
    "collapsed": true
   },
   "outputs": [],
   "source": [
    "pc_3 = pearsonr_distances(x3,y3)"
   ]
  },
  {
   "cell_type": "markdown",
   "metadata": {},
   "source": [
    "- Vote"
   ]
  },
  {
   "cell_type": "code",
   "execution_count": 372,
   "metadata": {
    "collapsed": true
   },
   "outputs": [],
   "source": [
    "ed_guess_3 = KNNVote(5, ed_3, 'e')\n",
    "pc_guess_3 = KNNVote(5, pc_3, 'p')"
   ]
  },
  {
   "cell_type": "code",
   "execution_count": 383,
   "metadata": {
    "collapsed": false
   },
   "outputs": [
    {
     "name": "stdout",
     "output_type": "stream",
     "text": [
      "RGB and euclidean accuracy: 0.37\n"
     ]
    }
   ],
   "source": [
    "print(\"RGB\",\"and euclidean accuracy: %.2f\"%acc(ed_guess_3, tag_test))"
   ]
  },
  {
   "cell_type": "code",
   "execution_count": 381,
   "metadata": {
    "collapsed": false
   },
   "outputs": [
    {
     "name": "stdout",
     "output_type": "stream",
     "text": [
      "[[ 88  56  14  14  19  61]\n",
      " [ 36 113  38  16  40  62]\n",
      " [ 18  41  98  12  24  53]\n",
      " [ 46  78  25 103  33  76]\n",
      " [ 44  78  36  25 140  60]\n",
      " [ 20  51  38   5  14 120]]\n"
     ]
    }
   ],
   "source": [
    "print(confusion_matrix(tag_test, ed_guess_3, sample_weight=None))"
   ]
  },
  {
   "cell_type": "code",
   "execution_count": 384,
   "metadata": {
    "collapsed": false
   },
   "outputs": [
    {
     "name": "stdout",
     "output_type": "stream",
     "text": [
      "RGB and pearson accuracy: 0.42\n"
     ]
    }
   ],
   "source": [
    "print(\"RGB\",\"and pearson accuracy: %.2f\"%acc(tag_test,pc_guess_3))"
   ]
  },
  {
   "cell_type": "code",
   "execution_count": 382,
   "metadata": {
    "collapsed": false
   },
   "outputs": [
    {
     "name": "stdout",
     "output_type": "stream",
     "text": [
      "[[107  46  14  15  26  44]\n",
      " [ 35 119  35  18  43  55]\n",
      " [ 13  46 105  10  22  50]\n",
      " [ 39  70  34 135  38  45]\n",
      " [ 42  74  21  22 178  46]\n",
      " [ 27  45  38  11  25 102]]\n"
     ]
    }
   ],
   "source": [
    "print(confusion_matrix(tag_test, pc_guess_3, sample_weight=None))"
   ]
  },
  {
   "cell_type": "markdown",
   "metadata": {},
   "source": [
    "#### 3.3.4 HSV"
   ]
  },
  {
   "cell_type": "code",
   "execution_count": 385,
   "metadata": {
    "collapsed": true
   },
   "outputs": [],
   "source": [
    "x4 = hsv_test\n",
    "y4 = hsv_train"
   ]
  },
  {
   "cell_type": "markdown",
   "metadata": {},
   "source": [
    "- compute distances"
   ]
  },
  {
   "cell_type": "code",
   "execution_count": 386,
   "metadata": {
    "collapsed": true
   },
   "outputs": [],
   "source": [
    "ed_4 = euclidean_distances(x4,y4)"
   ]
  },
  {
   "cell_type": "code",
   "execution_count": 387,
   "metadata": {
    "collapsed": true
   },
   "outputs": [],
   "source": [
    "pc_4 = pearsonr_distances(x4,y4)"
   ]
  },
  {
   "cell_type": "markdown",
   "metadata": {},
   "source": [
    "- Vote"
   ]
  },
  {
   "cell_type": "code",
   "execution_count": 388,
   "metadata": {
    "collapsed": true
   },
   "outputs": [],
   "source": [
    "ed_guess_4 = KNNVote(5, ed_4, 'e')\n",
    "pc_guess_4 = KNNVote(5, pc_4, 'p')"
   ]
  },
  {
   "cell_type": "code",
   "execution_count": 389,
   "metadata": {
    "collapsed": false
   },
   "outputs": [
    {
     "name": "stdout",
     "output_type": "stream",
     "text": [
      "HSV and pearson accuracy: 0.42\n"
     ]
    }
   ],
   "source": [
    "print(\"HSV\",\"and pearson accuracy: %.2f\"%acc(tag_test,ed_guess_4))"
   ]
  },
  {
   "cell_type": "code",
   "execution_count": 391,
   "metadata": {
    "collapsed": false,
    "scrolled": true
   },
   "outputs": [
    {
     "name": "stdout",
     "output_type": "stream",
     "text": [
      "[[100  31  14  24  25  58]\n",
      " [ 23  78  52  23  58  71]\n",
      " [  8  29 156   1  10  42]\n",
      " [ 39  42  40 128  32  80]\n",
      " [ 31  74  26  42 160  50]\n",
      " [ 11  38  39   9  14 137]]\n"
     ]
    }
   ],
   "source": [
    "print(confusion_matrix(tag_test, ed_guess_4, sample_weight=None))"
   ]
  },
  {
   "cell_type": "code",
   "execution_count": 390,
   "metadata": {
    "collapsed": false
   },
   "outputs": [
    {
     "name": "stdout",
     "output_type": "stream",
     "text": [
      "HSV and pearson accuracy: 0.43\n"
     ]
    }
   ],
   "source": [
    "print(\"HSV\",\"and pearson accuracy: %.2f\"%acc(tag_test,pc_guess_4))"
   ]
  },
  {
   "cell_type": "code",
   "execution_count": 392,
   "metadata": {
    "collapsed": false
   },
   "outputs": [
    {
     "name": "stdout",
     "output_type": "stream",
     "text": [
      "[[109  34  12  27  26  44]\n",
      " [ 28  80  49  16  79  53]\n",
      " [  7  30 150  11  17  31]\n",
      " [ 31  57  25 129  64  55]\n",
      " [ 37  71  17  29 191  38]\n",
      " [ 20  39  29  10  36 114]]\n"
     ]
    }
   ],
   "source": [
    "print(confusion_matrix(tag_test, pc_guess_4, sample_weight=None))"
   ]
  }
 ],
 "metadata": {
  "kernelspec": {
   "display_name": "cse6240",
   "language": "python",
   "name": "cse6240"
  },
  "language_info": {
   "codemirror_mode": {
    "name": "ipython",
    "version": 3
   },
   "file_extension": ".py",
   "mimetype": "text/x-python",
   "name": "python",
   "nbconvert_exporter": "python",
   "pygments_lexer": "ipython3",
   "version": "3.6.0"
  }
 },
 "nbformat": 4,
 "nbformat_minor": 1
}
