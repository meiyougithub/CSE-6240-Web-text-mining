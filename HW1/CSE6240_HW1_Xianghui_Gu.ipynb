{
 "cells": [
  {
   "cell_type": "markdown",
   "metadata": {},
   "source": [
    "# CSE 6240 HW 1\n",
    "# Xianghui Gu, xgu72, 903248583"
   ]
  },
  {
   "cell_type": "markdown",
   "metadata": {},
   "source": [
    "## 1: Processing text to create design matrices"
   ]
  },
  {
   "cell_type": "markdown",
   "metadata": {},
   "source": [
    "### 1.0 Read csv and clean data"
   ]
  },
  {
   "cell_type": "code",
   "execution_count": 1,
   "metadata": {
    "collapsed": true
   },
   "outputs": [],
   "source": [
    "import pandas as pd   \n",
    "from bs4 import BeautifulSoup \n",
    "import nltk\n",
    "import re\n",
    "\n",
    "train = pd.read_csv(\"labeledTrainData.tsv\", header=0, \\\n",
    "                    delimiter=\"\\t\", quoting=3)"
   ]
  },
  {
   "cell_type": "code",
   "execution_count": 2,
   "metadata": {
    "collapsed": true
   },
   "outputs": [],
   "source": [
    "def review_to_words( raw_review ):\n",
    "    # Function to convert a raw review to a string of words\n",
    "    # The input is a single string (a raw movie review), and \n",
    "    # the output is a single string (a preprocessed movie review)\n",
    "    #\n",
    "    # 1. Remove HTML\n",
    "    review_text = BeautifulSoup(raw_review, \"html.parser\").get_text() \n",
    "    #\n",
    "    # 2. Remove non-letters        \n",
    "    letters_only = re.sub(\"[^a-zA-Z]\", \" \", review_text) \n",
    "    #\n",
    "    # 3. Convert to lower case, split into individual words\n",
    "    words = letters_only.lower().split()                             \n",
    "    #\n",
    "    # 4. In Python, searching a set is much faster than searching\n",
    "    #   a list, so convert the stop words to a set\n",
    "    stops = set(stopwords.words(\"english\"))                  \n",
    "    # \n",
    "    # 5. Remove stop words\n",
    "    meaningful_words = [w for w in words if not w in stops]   \n",
    "    #\n",
    "    # 6. Join the words back into one string separated by space, \n",
    "    # and return the result.\n",
    "    return( \" \".join( meaningful_words ))   "
   ]
  },
  {
   "cell_type": "code",
   "execution_count": 3,
   "metadata": {
    "collapsed": false
   },
   "outputs": [],
   "source": [
    "from nltk.corpus import stopwords\n",
    "# Get the number of reviews based on the dataframe column size\n",
    "num_reviews = train[\"review\"].size\n",
    "clean_train_reviews = []\n",
    "for i in range( 0, num_reviews ):                                                                 \n",
    "    clean_train_reviews.append( review_to_words( train[\"review\"][i] ))"
   ]
  },
  {
   "cell_type": "markdown",
   "metadata": {},
   "source": [
    "### 1.1 X_counts"
   ]
  },
  {
   "cell_type": "code",
   "execution_count": 52,
   "metadata": {
    "collapsed": false
   },
   "outputs": [],
   "source": [
    "# print(\"Creating the bag of words...\\n\")\n",
    "from sklearn.feature_extraction.text import CountVectorizer\n",
    "\n",
    "# Initialize the \"CountVectorizer\" object, which is scikit-learn's\n",
    "# bag of words tool.  \n",
    "vectorizer = CountVectorizer(analyzer = \"word\",   \\\n",
    "                             tokenizer = None,    \\\n",
    "                             preprocessor = None, \\\n",
    "                             stop_words = None,   \\\n",
    "                             max_features = 5000) \n",
    "\n",
    "# fit_transform() does two functions: First, it fits the model\n",
    "# and learns the vocabulary; second, it transforms our training data\n",
    "# into feature vectors. The input to fit_transform should be a list of \n",
    "# strings.\n",
    "X_counts = vectorizer.fit_transform(clean_train_reviews)\n"
   ]
  },
  {
   "cell_type": "markdown",
   "metadata": {},
   "source": [
    "### 1.2 X_binary"
   ]
  },
  {
   "cell_type": "code",
   "execution_count": 5,
   "metadata": {
    "collapsed": false
   },
   "outputs": [],
   "source": [
    "import copy\n",
    "X_binary = copy.deepcopy(X_counts)\n",
    "X_binary[X_binary > 0] = 1"
   ]
  },
  {
   "cell_type": "markdown",
   "metadata": {},
   "source": [
    "### 1.3 X_tfidf"
   ]
  },
  {
   "cell_type": "code",
   "execution_count": 6,
   "metadata": {
    "collapsed": false,
    "scrolled": true
   },
   "outputs": [],
   "source": [
    "from sklearn.feature_extraction.text import TfidfTransformer\n",
    "vectorizer = TfidfTransformer(smooth_idf=False)\n",
    "X_tfidf = vectorizer.fit_transform(X_counts)"
   ]
  },
  {
   "cell_type": "markdown",
   "metadata": {},
   "source": [
    "### 1.4 X_binary_imbalance"
   ]
  },
  {
   "cell_type": "code",
   "execution_count": 42,
   "metadata": {
    "collapsed": false
   },
   "outputs": [],
   "source": [
    "import numpy as np\n",
    "from scipy import sparse\n",
    "sentiment = train[\"sentiment\"]\n",
    "rows = sentiment[sentiment==1].index\n",
    "np.random.seed(0)\n",
    "drop_rows = np.random.choice(rows, int(0.75*len(rows)),replace=False)\n",
    "imbalance = np.delete(X_counts.toarray(),drop_rows,0)\n",
    "X_binary_imbalance = sparse.csr_matrix(imbalance.tolist())\n",
    "sentiment_imbalance = np.delete(sentiment.values,drop_rows,0)"
   ]
  },
  {
   "cell_type": "markdown",
   "metadata": {},
   "source": [
    "## 2: Feature space similarity experiment"
   ]
  },
  {
   "cell_type": "markdown",
   "metadata": {},
   "source": [
    "### 2.1 Distance function"
   ]
  },
  {
   "cell_type": "code",
   "execution_count": 100,
   "metadata": {
    "collapsed": false
   },
   "outputs": [],
   "source": [
    "import numpy as np\n",
    "def dist(X, i, j, distance_function='Euclidean'):\n",
    "    X = X.toarray()\n",
    "    return np.linalg.norm(X[i]-X[j])"
   ]
  },
  {
   "cell_type": "markdown",
   "metadata": {},
   "source": [
    "### 2.2 Topk function"
   ]
  },
  {
   "cell_type": "code",
   "execution_count": 8,
   "metadata": {
    "collapsed": false
   },
   "outputs": [],
   "source": [
    "import sklearn.metrics.pairwise as smp\n",
    "def topk(X,k):\n",
    "    distance = smp.pairwise_distances(X,n_jobs=1)\n",
    "    \n",
    "    lowerhalf = np.tril(distance,-1).T\n",
    "    lowerhalf[lowerhalf == 0] = float(\"inf\")\n",
    "\n",
    "    ind = np.argpartition(lowerhalf.flatten(), k)[:k]\n",
    "    matind = np.unravel_index(ind, lowerhalf.shape)\n",
    "    result_list = np.dstack((matind[0],matind[1],lowerhalf[matind]))[0]\n",
    "\n",
    "    return sorted([(int(tu[0]),int(tu[1]),tu[2]) for tu in result_list], key=lambda x:x[2])\n",
    "    \n"
   ]
  },
  {
   "cell_type": "code",
   "execution_count": 81,
   "metadata": {
    "collapsed": true
   },
   "outputs": [],
   "source": [
    "def printtopk(x,k):\n",
    "    temp = topk(x,k)\n",
    "    for tu in temp:\n",
    "        print(\"Index: \",tu[0],\", \",tu[1])\n",
    "        print(\"Distance: \",tu[2])\n",
    "        print(\"Review\",tu[0],\"with label\",sentiment[tu[0]],\": \",clean_train_reviews[tu[0]][:20])\n",
    "        print(\"Review\",tu[1],\"with label\",sentiment[tu[1]],\": \",clean_train_reviews[tu[1]][:20])\n",
    "    \n"
   ]
  },
  {
   "cell_type": "markdown",
   "metadata": {},
   "source": [
    "#### 2.2.1 X_counts results"
   ]
  },
  {
   "cell_type": "code",
   "execution_count": 110,
   "metadata": {
    "collapsed": false
   },
   "outputs": [
    {
     "name": "stdout",
     "output_type": "stream",
     "text": [
      "Index:  2052 ,  20915\n",
      "Distance:  1.0\n",
      "Review 2052 with label 1 :  atlantis much better\n",
      "Review 20915 with label 1 :  atlantis much better\n",
      "Index:  11876 ,  21854\n",
      "Distance:  1.0\n",
      "Review 11876 with label 0 :  big fan rom coms bes\n",
      "Review 21854 with label 0 :  big fan rom coms bes\n",
      "Index:  17927 ,  23442\n",
      "Distance:  1.0\n",
      "Review 17927 with label 1 :  liked stanley iris m\n",
      "Review 23442 with label 1 :  liked stanley iris m\n",
      "Index:  7758 ,  18697\n",
      "Distance:  1.0\n",
      "Review 7758 with label 1 :  kurt russell best ma\n",
      "Review 18697 with label 1 :  kurt russell best ma\n",
      "Index:  7663 ,  11331\n",
      "Distance:  1.0\n",
      "Review 7663 with label 1 :  saw theater fell cha\n",
      "Review 11331 with label 1 :  saw theater fell cha\n",
      "Index:  7245 ,  16635\n",
      "Distance:  1.0\n",
      "Review 7245 with label 1 :  really surprised mov\n",
      "Review 16635 with label 1 :  really suprised movi\n",
      "Index:  14007 ,  15296\n",
      "Distance:  1.41421356237\n",
      "Review 14007 with label 1 :  full length feature \n",
      "Review 15296 with label 1 :  full length feature \n",
      "Index:  3217 ,  13530\n",
      "Distance:  1.41421356237\n",
      "Review 3217 with label 1 :  brothers psychokinet\n",
      "Review 13530 with label 1 :  brothers psychokinet\n",
      "Index:  5930 ,  8651\n",
      "Distance:  1.41421356237\n",
      "Review 5930 with label 0 :  movie beautiful scen\n",
      "Review 8651 with label 0 :  movie beautiful scen\n",
      "Index:  17096 ,  21325\n",
      "Distance:  1.73205080757\n",
      "Review 17096 with label 0 :  college dorm guy kil\n",
      "Review 21325 with label 0 :  college dorm guy kil\n"
     ]
    }
   ],
   "source": [
    "printtopk(X_counts,10)"
   ]
  },
  {
   "cell_type": "markdown",
   "metadata": {},
   "source": [
    "#### 2.2.2 X_binary results"
   ]
  },
  {
   "cell_type": "code",
   "execution_count": 111,
   "metadata": {
    "collapsed": false
   },
   "outputs": [
    {
     "name": "stdout",
     "output_type": "stream",
     "text": [
      "Index:  7663 ,  11331\n",
      "Distance:  1.0\n",
      "Review 7663 with label 1 :  saw theater fell cha\n",
      "Review 11331 with label 1 :  saw theater fell cha\n",
      "Index:  2052 ,  20915\n",
      "Distance:  1.0\n",
      "Review 2052 with label 1 :  atlantis much better\n",
      "Review 20915 with label 1 :  atlantis much better\n",
      "Index:  11876 ,  21854\n",
      "Distance:  1.0\n",
      "Review 11876 with label 0 :  big fan rom coms bes\n",
      "Review 21854 with label 0 :  big fan rom coms bes\n",
      "Index:  7758 ,  18697\n",
      "Distance:  1.0\n",
      "Review 7758 with label 1 :  kurt russell best ma\n",
      "Review 18697 with label 1 :  kurt russell best ma\n",
      "Index:  7245 ,  16635\n",
      "Distance:  1.0\n",
      "Review 7245 with label 1 :  really surprised mov\n",
      "Review 16635 with label 1 :  really suprised movi\n",
      "Index:  17927 ,  23442\n",
      "Distance:  1.0\n",
      "Review 17927 with label 1 :  liked stanley iris m\n",
      "Review 23442 with label 1 :  liked stanley iris m\n",
      "Index:  5930 ,  8651\n",
      "Distance:  1.0\n",
      "Review 5930 with label 0 :  movie beautiful scen\n",
      "Review 8651 with label 0 :  movie beautiful scen\n",
      "Index:  3217 ,  13530\n",
      "Distance:  1.0\n",
      "Review 3217 with label 1 :  brothers psychokinet\n",
      "Review 13530 with label 1 :  brothers psychokinet\n",
      "Index:  6864 ,  14534\n",
      "Distance:  1.41421356237\n",
      "Review 6864 with label 0 :  praised atlantis los\n",
      "Review 14534 with label 0 :  praised atlantis los\n",
      "Index:  14007 ,  15296\n",
      "Distance:  1.41421356237\n",
      "Review 14007 with label 1 :  full length feature \n",
      "Review 15296 with label 1 :  full length feature \n"
     ]
    }
   ],
   "source": [
    "printtopk(X_binary,10)"
   ]
  },
  {
   "cell_type": "markdown",
   "metadata": {},
   "source": [
    "#### 2.2.3 X_tfidf results"
   ]
  },
  {
   "cell_type": "code",
   "execution_count": 112,
   "metadata": {
    "collapsed": false
   },
   "outputs": [
    {
     "name": "stdout",
     "output_type": "stream",
     "text": [
      "Index:  6864 ,  14534\n",
      "Distance:  0.0806555620545\n",
      "Review 6864 with label 0 :  praised atlantis los\n",
      "Review 14534 with label 0 :  praised atlantis los\n",
      "Index:  17096 ,  21325\n",
      "Distance:  0.13706274111\n",
      "Review 17096 with label 0 :  college dorm guy kil\n",
      "Review 21325 with label 0 :  college dorm guy kil\n",
      "Index:  3217 ,  13530\n",
      "Distance:  0.152484056832\n",
      "Review 3217 with label 1 :  brothers psychokinet\n",
      "Review 13530 with label 1 :  brothers psychokinet\n",
      "Index:  2052 ,  20915\n",
      "Distance:  0.165548384581\n",
      "Review 2052 with label 1 :  atlantis much better\n",
      "Review 20915 with label 1 :  atlantis much better\n",
      "Index:  7758 ,  18697\n",
      "Distance:  0.167674491095\n",
      "Review 7758 with label 1 :  kurt russell best ma\n",
      "Review 18697 with label 1 :  kurt russell best ma\n",
      "Index:  7663 ,  11331\n",
      "Distance:  0.179523238929\n",
      "Review 7663 with label 1 :  saw theater fell cha\n",
      "Review 11331 with label 1 :  saw theater fell cha\n",
      "Index:  5930 ,  8651\n",
      "Distance:  0.195973707\n",
      "Review 5930 with label 0 :  movie beautiful scen\n",
      "Review 8651 with label 0 :  movie beautiful scen\n",
      "Index:  7245 ,  16635\n",
      "Distance:  0.205790868776\n",
      "Review 7245 with label 1 :  really surprised mov\n",
      "Review 16635 with label 1 :  really suprised movi\n",
      "Index:  14007 ,  15296\n",
      "Distance:  0.219995575176\n",
      "Review 14007 with label 1 :  full length feature \n",
      "Review 15296 with label 1 :  full length feature \n",
      "Index:  11876 ,  21854\n",
      "Distance:  0.250030658294\n",
      "Review 11876 with label 0 :  big fan rom coms bes\n",
      "Review 21854 with label 0 :  big fan rom coms bes\n"
     ]
    }
   ],
   "source": [
    "printtopk(X_tfidf,10)"
   ]
  },
  {
   "cell_type": "markdown",
   "metadata": {},
   "source": [
    "#### 2.2.4 X_binary_imbalance results"
   ]
  },
  {
   "cell_type": "code",
   "execution_count": 113,
   "metadata": {
    "collapsed": false,
    "scrolled": false
   },
   "outputs": [
    {
     "name": "stdout",
     "output_type": "stream",
     "text": [
      "Index:  7394 ,  13656\n",
      "Distance:  1.0\n",
      "Review 7394 with label 0 :  big fan rom coms bes\n",
      "Review 13656 with label 0 :  big fan rom coms bes\n",
      "Index:  3681 ,  5376\n",
      "Distance:  1.41421356237\n",
      "Review 3681 with label 0 :  movie beautiful scen\n",
      "Review 5376 with label 0 :  movie beautiful scen\n",
      "Index:  10711 ,  13344\n",
      "Distance:  1.73205080757\n",
      "Review 10711 with label 0 :  college dorm guy kil\n",
      "Review 13344 with label 0 :  college dorm guy kil\n",
      "Index:  12680 ,  13920\n",
      "Distance:  2.2360679775\n",
      "Review 12680 with label 0 :  movie terrible good \n",
      "Review 13920 with label 0 :  ming merciless littl\n",
      "Index:  5628 ,  12680\n",
      "Distance:  2.82842712475\n",
      "Review 5628 with label 0 :  comment movie imposs\n",
      "Review 12680 with label 0 :  movie terrible good \n",
      "Index:  13920 ,  15157\n",
      "Distance:  2.82842712475\n",
      "Review 13920 with label 0 :  ming merciless littl\n",
      "Review 15157 with label 0 :  rating begin express\n",
      "Index:  2366 ,  13920\n",
      "Distance:  2.82842712475\n",
      "Review 2366 with label 0 :  characters unlikeabl\n",
      "Review 13920 with label 0 :  ming merciless littl\n",
      "Index:  5628 ,  13920\n",
      "Distance:  3.0\n",
      "Review 5628 with label 0 :  comment movie imposs\n",
      "Review 13920 with label 0 :  ming merciless littl\n",
      "Index:  12536 ,  13920\n",
      "Distance:  3.0\n",
      "Review 12536 with label 1 :  definitive movie ver\n",
      "Review 13920 with label 0 :  ming merciless littl\n",
      "Index:  13920 ,  14746\n",
      "Distance:  3.0\n",
      "Review 13920 with label 0 :  ming merciless littl\n",
      "Review 14746 with label 0 :  rent one even dollar\n"
     ]
    }
   ],
   "source": [
    "imbalancelist = topk(X_binary_imbalance,10)\n",
    "reviews_imbalance = np.delete(np.array(clean_train_reviews),drop_rows,0)\n",
    "for tu in imbalancelist:\n",
    "    print(\"Index: \",tu[0],\", \",tu[1])\n",
    "    print(\"Distance: \",tu[2])\n",
    "    print(\"Review\",tu[0],\"with label\",sentiment_imbalance[tu[0]],\": \",reviews_imbalance[tu[0]][:20])\n",
    "    print(\"Review\",tu[1],\"with label\",sentiment_imbalance[tu[1]],\": \",reviews_imbalance[tu[1]][:20])"
   ]
  },
  {
   "cell_type": "markdown",
   "metadata": {},
   "source": [
    "#### 2.2.5 Discussion"
   ]
  },
  {
   "cell_type": "markdown",
   "metadata": {},
   "source": [
    "The pairs are not the same given top 10. It's possibly due to difference in design matrices and difference in ways of breaking ties."
   ]
  },
  {
   "cell_type": "markdown",
   "metadata": {},
   "source": [
    "## 3. Classification Experiment"
   ]
  },
  {
   "cell_type": "code",
   "execution_count": 118,
   "metadata": {
    "collapsed": false
   },
   "outputs": [],
   "source": [
    "import matplotlib.pyplot as plt\n",
    "from sklearn.metrics import roc_curve, auc\n",
    "from sklearn.model_selection import train_test_split,cross_val_score\n",
    "from sklearn import datasets,svm\n",
    "\n",
    "def selectC(x,y):\n",
    "    clist = []\n",
    "    np.random.seed(0)\n",
    "    for i in range(30):\n",
    "        c = 10**np.random.uniform(-4,4)\n",
    "        clf = svm.LinearSVC(C=c).fit(x, y)\n",
    "        scores = cross_val_score(clf, x, y, cv=5,scoring='roc_auc')\n",
    "        mean_score = scores.mean()\n",
    "        clist.append((mean_score,c))\n",
    "    clist.sort(reverse=True)\n",
    "    return clist[0][1],clist[0][0]-clist[-1][0]\n",
    "\n",
    "def plot_curve(fpr,tpr,roc_auc,title):\n",
    "    plt.figure()\n",
    "    lw = 2\n",
    "    plt.plot(fpr, tpr, color='darkorange',\n",
    "             lw=lw, label='ROC curve (area = %0.4f)' % roc_auc)\n",
    "    plt.plot([0, 1], [0, 1], color='navy', lw=lw, linestyle='--')\n",
    "    plt.xlim([0.0, 1.0])\n",
    "    plt.ylim([0.0, 1.05])\n",
    "    plt.xlabel('False Positive Rate')\n",
    "    plt.ylabel('True Positive Rate')\n",
    "    plt.title('ROC of '+title)\n",
    "    plt.legend(loc=\"lower right\")\n",
    "    plt.show()\n",
    "\n",
    "def graphGenerate(XX,y,title):\n",
    "    xtrain, xtest, ytrain, ytest = train_test_split(XX, y, test_size=0.2, random_state=0)\n",
    "    c,l = selectC(xtrain,ytrain)\n",
    "    print(\"best c: \",c)\n",
    "    print(\"lift: \", l)\n",
    "    clf = svm.LinearSVC(C=c).fit(xtrain, ytrain)    \n",
    "    fpr, tpr, thresholds = roc_curve(ytest, clf.decision_function(xtest))\n",
    "    roc_auc = auc(fpr, tpr)\n",
    "    plot_curve(fpr,tpr,roc_auc,title)\n",
    "    return c,l\n"
   ]
  },
  {
   "cell_type": "markdown",
   "metadata": {},
   "source": [
    "### 3.1 X_counts ROC with AUC(area)"
   ]
  },
  {
   "cell_type": "code",
   "execution_count": 119,
   "metadata": {
    "collapsed": false,
    "scrolled": false
   },
   "outputs": [
    {
     "name": "stdout",
     "output_type": "stream",
     "text": [
      "best c:  0.0037381686712357584\n",
      "lift:  0.0475511795684\n"
     ]
    },
    {
     "data": {
      "image/png": "[encoded data removed]",
      "text/plain": [
       "<matplotlib.figure.Figure at 0x12401fb00>"
      ]
     },
     "metadata": {},
     "output_type": "display_data"
    }
   ],
   "source": [
    "c1,l1 = graphGenerate(X_counts,sentiment,'X_counts')"
   ]
  },
  {
   "cell_type": "markdown",
   "metadata": {},
   "source": [
    "### 3.2 X_binary ROC with AUC(area)"
   ]
  },
  {
   "cell_type": "code",
   "execution_count": 125,
   "metadata": {
    "collapsed": false,
    "scrolled": false
   },
   "outputs": [
    {
     "name": "stdout",
     "output_type": "stream",
     "text": [
      "best c:  0.0037381686712357584\n",
      "lift:  0.0483640349873\n"
     ]
    },
    {
     "data": {
      "image/png": "[encoded data removed]",
      "text/plain": [
       "<matplotlib.figure.Figure at 0x1237ac710>"
      ]
     },
     "metadata": {},
     "output_type": "display_data"
    }
   ],
   "source": [
    "c2,l2 = graphGenerate(X_binary,sentiment,'X_binary')"
   ]
  },
  {
   "cell_type": "markdown",
   "metadata": {},
   "source": [
    "### 3.3 X_tfidf ROC with AUC(area)"
   ]
  },
  {
   "cell_type": "code",
   "execution_count": 123,
   "metadata": {
    "collapsed": false,
    "scrolled": false
   },
   "outputs": [
    {
     "name": "stdout",
     "output_type": "stream",
     "text": [
      "best c:  0.24504079607415993\n",
      "lift:  0.0510934856786\n"
     ]
    },
    {
     "data": {
      "image/png": "[encoded data removed]",
      "text/plain": [
       "<matplotlib.figure.Figure at 0x122b85128>"
      ]
     },
     "metadata": {},
     "output_type": "display_data"
    }
   ],
   "source": [
    "c3,l3 = graphGenerate(X_tfidf,sentiment,'X_tfidf')"
   ]
  },
  {
   "cell_type": "markdown",
   "metadata": {},
   "source": [
    "### 3.4 X_binary_imbalance ROC with AUC(area)"
   ]
  },
  {
   "cell_type": "code",
   "execution_count": 124,
   "metadata": {
    "collapsed": false
   },
   "outputs": [
    {
     "name": "stdout",
     "output_type": "stream",
     "text": [
      "best c:  0.0037381686712357584\n",
      "lift:  0.0472328965778\n"
     ]
    },
    {
     "data": {
      "image/png": "[encoded data removed]",
      "text/plain": [
       "<matplotlib.figure.Figure at 0x123706128>"
      ]
     },
     "metadata": {},
     "output_type": "display_data"
    }
   ],
   "source": [
    "c4,l4 = graphGenerate(X_binary_imbalance,sentiment_imbalance,'X_binary_imbalance')"
   ]
  },
  {
   "cell_type": "markdown",
   "metadata": {},
   "source": [
    "### 3.5 Kaggle score"
   ]
  },
  {
   "cell_type": "markdown",
   "metadata": {},
   "source": [
    "Read data and generate test data features"
   ]
  },
  {
   "cell_type": "code",
   "execution_count": 73,
   "metadata": {
    "collapsed": false,
    "scrolled": true
   },
   "outputs": [],
   "source": [
    "# Read the test data\n",
    "test = pd.read_csv(\"testData.tsv\", header=0, delimiter=\"\\t\", \\\n",
    "                   quoting=3 )\n",
    "\n",
    "# Create an empty list and append the clean reviews one by one\n",
    "num_reviews = len(test[\"review\"])\n",
    "clean_test_reviews = [] \n",
    "\n",
    "for i in range(0,num_reviews):\n",
    "    clean_review = review_to_words( test[\"review\"][i] )\n",
    "    clean_test_reviews.append( clean_review )\n",
    "\n",
    "# Get a bag of words for the test set, and convert to a numpy array\n",
    "test_data_features = vectorizer.transform(clean_test_reviews)\n"
   ]
  },
  {
   "cell_type": "markdown",
   "metadata": {},
   "source": [
    "X_counts Kaggle score: 0.87788"
   ]
  },
  {
   "cell_type": "code",
   "execution_count": 66,
   "metadata": {
    "collapsed": false
   },
   "outputs": [],
   "source": [
    "# Use X_counts to make sentiment label predictions\n",
    "clf = svm.LinearSVC(C=c1).fit(X_counts, sentiment) \n",
    "result = clf.predict(test_data_features)\n",
    "\n",
    "# Copy the results to a pandas dataframe with an \"id\" column and\n",
    "# a \"sentiment\" column\n",
    "output = pd.DataFrame( data={\"id\":test[\"id\"], \"sentiment\":result} )\n",
    "\n",
    "# Use pandas to write the comma-separated output file\n",
    "output.to_csv( \"X_counts.csv\", index=False, quoting=3 )"
   ]
  },
  {
   "cell_type": "markdown",
   "metadata": {},
   "source": [
    "X_binary Kaggle score: 0.87752"
   ]
  },
  {
   "cell_type": "code",
   "execution_count": 70,
   "metadata": {
    "collapsed": true
   },
   "outputs": [],
   "source": [
    "# Use X_binary to make sentiment label predictions\n",
    "clf = svm.LinearSVC(C=c2).fit(X_binary, sentiment) \n",
    "result = clf.predict(test_data_features)\n",
    "\n",
    "# Copy the results to a pandas dataframe with an \"id\" column and\n",
    "# a \"sentiment\" column\n",
    "output = pd.DataFrame( data={\"id\":test[\"id\"], \"sentiment\":result} )\n",
    "\n",
    "# Use pandas to write the comma-separated output file\n",
    "output.to_csv( \"X_binary.csv\", index=False, quoting=3 )"
   ]
  },
  {
   "cell_type": "markdown",
   "metadata": {},
   "source": [
    "X_tfidf Kaggle score: 0.87452"
   ]
  },
  {
   "cell_type": "code",
   "execution_count": 71,
   "metadata": {
    "collapsed": true
   },
   "outputs": [],
   "source": [
    "# Use X_tfidf to make sentiment label predictions\n",
    "clf = svm.LinearSVC(C=c3).fit(X_tfidf, sentiment) \n",
    "result = clf.predict(test_data_features)\n",
    "\n",
    "# Copy the results to a pandas dataframe with an \"id\" column and\n",
    "# a \"sentiment\" column\n",
    "output = pd.DataFrame( data={\"id\":test[\"id\"], \"sentiment\":result} )\n",
    "\n",
    "# Use pandas to write the comma-separated output file\n",
    "output.to_csv( \"X_tfidf.csv\", index=False, quoting=3 )"
   ]
  },
  {
   "cell_type": "markdown",
   "metadata": {},
   "source": [
    "X_binary_imbalance Kaggle score: 0.78412"
   ]
  },
  {
   "cell_type": "code",
   "execution_count": 72,
   "metadata": {
    "collapsed": true
   },
   "outputs": [],
   "source": [
    "# Use X_binary_imbalance to make sentiment label predictions\n",
    "clf = svm.LinearSVC(C=c4).fit(X_binary_imbalance, sentiment_imbalance) \n",
    "result = clf.predict(test_data_features)\n",
    "\n",
    "# Copy the results to a pandas dataframe with an \"id\" column and\n",
    "# a \"sentiment\" column\n",
    "output = pd.DataFrame( data={\"id\":test[\"id\"], \"sentiment\":result} )\n",
    "\n",
    "# Use pandas to write the comma-separated output file\n",
    "output.to_csv( \"X_binary_imbalance.csv\", index=False, quoting=3 )"
   ]
  },
  {
   "cell_type": "markdown",
   "metadata": {},
   "source": [
    "### 3.6 Discussion"
   ]
  },
  {
   "cell_type": "markdown",
   "metadata": {},
   "source": [
    "The first three methods have similar performance which excel the last one. For the training set, X_tfidf has the best performance. For the testing set, X_counts has the best performance.\n",
    "\n",
    "As for lift in ROC-AUC, the lift for the four methods are:"
   ]
  },
  {
   "cell_type": "code",
   "execution_count": 126,
   "metadata": {
    "collapsed": false
   },
   "outputs": [
    {
     "name": "stdout",
     "output_type": "stream",
     "text": [
      "X_counts:  0.0475511795684\n",
      "X_binary:  0.0483640349873\n",
      "X_tfidf:  0.0510934856786\n",
      "X_binary_imbalance:  0.0472328965778\n"
     ]
    }
   ],
   "source": [
    "print(\"X_counts: \",l1)\n",
    "print(\"X_binary: \",l2)\n",
    "print(\"X_tfidf: \",l3)\n",
    "print(\"X_binary_imbalance: \",l4)"
   ]
  },
  {
   "cell_type": "markdown",
   "metadata": {},
   "source": [
    "## 4. Learning Curve Experiment"
   ]
  },
  {
   "cell_type": "markdown",
   "metadata": {},
   "source": [
    "### 4.1 Learning curve generation"
   ]
  },
  {
   "cell_type": "code",
   "execution_count": 128,
   "metadata": {
    "collapsed": false,
    "scrolled": true
   },
   "outputs": [
    {
     "data": {
      "image/png": "[encoded data removed]",
      "text/plain": [
       "<matplotlib.figure.Figure at 0x122e130b8>"
      ]
     },
     "metadata": {},
     "output_type": "display_data"
    }
   ],
   "source": [
    "import numpy as np\n",
    "import matplotlib.pyplot as plt\n",
    "from sklearn.linear_model import LogisticRegression\n",
    "from sklearn.svm import SVC\n",
    "from sklearn.datasets import load_digits\n",
    "from sklearn.model_selection import learning_curve\n",
    "from sklearn.model_selection import ShuffleSplit\n",
    "\n",
    "plt.figure()\n",
    "plt.title(\"learning_curve\")\n",
    "plt.xlabel(\"xval\")\n",
    "plt.ylabel(\"Error\")\n",
    "estimator = LogisticRegression()\n",
    "ranges = [100, 500, 1000, 2000, 3000, 4000, 5000, 7500, 10000, 15000, 20000]\n",
    "train_sizes, train_scores, test_scores = learning_curve(estimator, \\\n",
    "                                                        X_counts, sentiment,cv=5,\\\n",
    "                                                        train_sizes=ranges)\n",
    "train_scores_mean = 1-np.mean(train_scores, axis=1)\n",
    "train_scores_std = np.std(train_scores, axis=1)\n",
    "test_scores_mean = 1-np.mean(test_scores, axis=1)\n",
    "test_scores_std = np.std(test_scores, axis=1)\n",
    "plt.grid()\n",
    "\n",
    "plt.fill_between(train_sizes, train_scores_mean - train_scores_std,\n",
    "                 train_scores_mean + train_scores_std, alpha=0.1,\n",
    "                 color=\"r\")\n",
    "plt.fill_between(train_sizes, test_scores_mean - test_scores_std,\n",
    "                 test_scores_mean + test_scores_std, alpha=0.1, color=\"g\")\n",
    "plt.plot(train_sizes, train_scores_mean, 'o-', color=\"r\",\n",
    "         label=\"Training error\")\n",
    "plt.plot(train_sizes, test_scores_mean, 'o-', color=\"g\",\n",
    "         label=\"Testing error\")\n",
    "\n",
    "plt.legend(loc=\"best\")\n",
    "\n",
    "plt.show()"
   ]
  },
  {
   "cell_type": "markdown",
   "metadata": {},
   "source": [
    "### 4.2 Interpretation of the curve"
   ]
  },
  {
   "cell_type": "markdown",
   "metadata": {},
   "source": [
    "The training error shows how well the model fits the data. The green line is the cross-validation error while the red line is training set error. With small training set size, the model tends to underfit; with large training set size, the model tends to overfit. Hence, at first, the testing error is much higher than training error. With increasing training instances, the error gap tends to decrease."
   ]
  }
 ],
 "metadata": {
  "anaconda-cloud": {},
  "kernelspec": {
   "display_name": "Python [conda root]",
   "language": "python",
   "name": "conda-root-py"
  },
  "language_info": {
   "codemirror_mode": {
    "name": "ipython",
    "version": 3
   },
   "file_extension": ".py",
   "mimetype": "text/x-python",
   "name": "python",
   "nbconvert_exporter": "python",
   "pygments_lexer": "ipython3",
   "version": "3.5.2"
  }
 },
 "nbformat": 4,
 "nbformat_minor": 2
}
